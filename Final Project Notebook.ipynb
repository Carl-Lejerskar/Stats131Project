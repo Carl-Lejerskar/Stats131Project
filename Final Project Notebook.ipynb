{
 "cells": [
  {
   "cell_type": "markdown",
   "metadata": {},
   "source": [
    "<h1 style=\"font-size:32px; text-align:center;\">Predicting Mental Illness Treatment Behavior</h1>\n",
    "<hr>\n",
    "<h1 style=\"font-size:18px; text-align:center; margin-bottom:24px;\">Zachary Christy, Carl Lejerskar, Samad Patel</h1>\n",
    "<hr>"
   ]
  },
  {
   "cell_type": "markdown",
   "metadata": {},
   "source": [
    "# Part One: Context"
   ]
  },
  {
   "cell_type": "markdown",
   "metadata": {},
   "source": [
    "The purpose of this report is to explore the qualities that are predictive in whether or not an individual will seek mental health treatment. Mental health is an exceptionally important aspect of life, and it's something not discussed enough. Understanding the relationships between an individual and their workplace can be beneficial in fostering healhier, more fulfilling lives, and on the business end, more productive employees. "
   ]
  },
  {
   "cell_type": "code",
   "execution_count": 328,
   "metadata": {
    "collapsed": false
   },
   "outputs": [
    {
     "name": "stdout",
     "output_type": "stream",
     "text": [
      "(1259, 27)\n"
     ]
    },
    {
     "data": {
      "text/html": [
       "<div>\n",
       "<table border=\"1\" class=\"dataframe\">\n",
       "  <thead>\n",
       "    <tr style=\"text-align: right;\">\n",
       "      <th></th>\n",
       "      <th>Timestamp</th>\n",
       "      <th>Age</th>\n",
       "      <th>Gender</th>\n",
       "      <th>Country</th>\n",
       "      <th>state</th>\n",
       "      <th>self_employed</th>\n",
       "      <th>family_history</th>\n",
       "      <th>treatment</th>\n",
       "      <th>work_interfere</th>\n",
       "      <th>no_employees</th>\n",
       "      <th>...</th>\n",
       "      <th>leave</th>\n",
       "      <th>mental_health_consequence</th>\n",
       "      <th>phys_health_consequence</th>\n",
       "      <th>coworkers</th>\n",
       "      <th>supervisor</th>\n",
       "      <th>mental_health_interview</th>\n",
       "      <th>phys_health_interview</th>\n",
       "      <th>mental_vs_physical</th>\n",
       "      <th>obs_consequence</th>\n",
       "      <th>comments</th>\n",
       "    </tr>\n",
       "  </thead>\n",
       "  <tbody>\n",
       "    <tr>\n",
       "      <th>0</th>\n",
       "      <td>2014-08-27 11:29:31</td>\n",
       "      <td>37</td>\n",
       "      <td>Female</td>\n",
       "      <td>United States</td>\n",
       "      <td>IL</td>\n",
       "      <td>NaN</td>\n",
       "      <td>No</td>\n",
       "      <td>Yes</td>\n",
       "      <td>Often</td>\n",
       "      <td>6-25</td>\n",
       "      <td>...</td>\n",
       "      <td>Somewhat easy</td>\n",
       "      <td>No</td>\n",
       "      <td>No</td>\n",
       "      <td>Some of them</td>\n",
       "      <td>Yes</td>\n",
       "      <td>No</td>\n",
       "      <td>Maybe</td>\n",
       "      <td>Yes</td>\n",
       "      <td>No</td>\n",
       "      <td>NaN</td>\n",
       "    </tr>\n",
       "    <tr>\n",
       "      <th>1</th>\n",
       "      <td>2014-08-27 11:29:37</td>\n",
       "      <td>44</td>\n",
       "      <td>M</td>\n",
       "      <td>United States</td>\n",
       "      <td>IN</td>\n",
       "      <td>NaN</td>\n",
       "      <td>No</td>\n",
       "      <td>No</td>\n",
       "      <td>Rarely</td>\n",
       "      <td>More than 1000</td>\n",
       "      <td>...</td>\n",
       "      <td>Don't know</td>\n",
       "      <td>Maybe</td>\n",
       "      <td>No</td>\n",
       "      <td>No</td>\n",
       "      <td>No</td>\n",
       "      <td>No</td>\n",
       "      <td>No</td>\n",
       "      <td>Don't know</td>\n",
       "      <td>No</td>\n",
       "      <td>NaN</td>\n",
       "    </tr>\n",
       "    <tr>\n",
       "      <th>2</th>\n",
       "      <td>2014-08-27 11:29:44</td>\n",
       "      <td>32</td>\n",
       "      <td>Male</td>\n",
       "      <td>Canada</td>\n",
       "      <td>NaN</td>\n",
       "      <td>NaN</td>\n",
       "      <td>No</td>\n",
       "      <td>No</td>\n",
       "      <td>Rarely</td>\n",
       "      <td>6-25</td>\n",
       "      <td>...</td>\n",
       "      <td>Somewhat difficult</td>\n",
       "      <td>No</td>\n",
       "      <td>No</td>\n",
       "      <td>Yes</td>\n",
       "      <td>Yes</td>\n",
       "      <td>Yes</td>\n",
       "      <td>Yes</td>\n",
       "      <td>No</td>\n",
       "      <td>No</td>\n",
       "      <td>NaN</td>\n",
       "    </tr>\n",
       "    <tr>\n",
       "      <th>3</th>\n",
       "      <td>2014-08-27 11:29:46</td>\n",
       "      <td>31</td>\n",
       "      <td>Male</td>\n",
       "      <td>United Kingdom</td>\n",
       "      <td>NaN</td>\n",
       "      <td>NaN</td>\n",
       "      <td>Yes</td>\n",
       "      <td>Yes</td>\n",
       "      <td>Often</td>\n",
       "      <td>26-100</td>\n",
       "      <td>...</td>\n",
       "      <td>Somewhat difficult</td>\n",
       "      <td>Yes</td>\n",
       "      <td>Yes</td>\n",
       "      <td>Some of them</td>\n",
       "      <td>No</td>\n",
       "      <td>Maybe</td>\n",
       "      <td>Maybe</td>\n",
       "      <td>No</td>\n",
       "      <td>Yes</td>\n",
       "      <td>NaN</td>\n",
       "    </tr>\n",
       "    <tr>\n",
       "      <th>4</th>\n",
       "      <td>2014-08-27 11:30:22</td>\n",
       "      <td>31</td>\n",
       "      <td>Male</td>\n",
       "      <td>United States</td>\n",
       "      <td>TX</td>\n",
       "      <td>NaN</td>\n",
       "      <td>No</td>\n",
       "      <td>No</td>\n",
       "      <td>Never</td>\n",
       "      <td>100-500</td>\n",
       "      <td>...</td>\n",
       "      <td>Don't know</td>\n",
       "      <td>No</td>\n",
       "      <td>No</td>\n",
       "      <td>Some of them</td>\n",
       "      <td>Yes</td>\n",
       "      <td>Yes</td>\n",
       "      <td>Yes</td>\n",
       "      <td>Don't know</td>\n",
       "      <td>No</td>\n",
       "      <td>NaN</td>\n",
       "    </tr>\n",
       "  </tbody>\n",
       "</table>\n",
       "<p>5 rows × 27 columns</p>\n",
       "</div>"
      ],
      "text/plain": [
       "             Timestamp  Age  Gender         Country state self_employed  \\\n",
       "0  2014-08-27 11:29:31   37  Female   United States    IL           NaN   \n",
       "1  2014-08-27 11:29:37   44       M   United States    IN           NaN   \n",
       "2  2014-08-27 11:29:44   32    Male          Canada   NaN           NaN   \n",
       "3  2014-08-27 11:29:46   31    Male  United Kingdom   NaN           NaN   \n",
       "4  2014-08-27 11:30:22   31    Male   United States    TX           NaN   \n",
       "\n",
       "  family_history treatment work_interfere    no_employees   ...     \\\n",
       "0             No       Yes          Often            6-25   ...      \n",
       "1             No        No         Rarely  More than 1000   ...      \n",
       "2             No        No         Rarely            6-25   ...      \n",
       "3            Yes       Yes          Often          26-100   ...      \n",
       "4             No        No          Never         100-500   ...      \n",
       "\n",
       "                leave mental_health_consequence phys_health_consequence  \\\n",
       "0       Somewhat easy                        No                      No   \n",
       "1          Don't know                     Maybe                      No   \n",
       "2  Somewhat difficult                        No                      No   \n",
       "3  Somewhat difficult                       Yes                     Yes   \n",
       "4          Don't know                        No                      No   \n",
       "\n",
       "      coworkers supervisor mental_health_interview phys_health_interview  \\\n",
       "0  Some of them        Yes                      No                 Maybe   \n",
       "1            No         No                      No                    No   \n",
       "2           Yes        Yes                     Yes                   Yes   \n",
       "3  Some of them         No                   Maybe                 Maybe   \n",
       "4  Some of them        Yes                     Yes                   Yes   \n",
       "\n",
       "  mental_vs_physical obs_consequence comments  \n",
       "0                Yes              No      NaN  \n",
       "1         Don't know              No      NaN  \n",
       "2                 No              No      NaN  \n",
       "3                 No             Yes      NaN  \n",
       "4         Don't know              No      NaN  \n",
       "\n",
       "[5 rows x 27 columns]"
      ]
     },
     "execution_count": 328,
     "metadata": {},
     "output_type": "execute_result"
    }
   ],
   "source": [
    "# Load necessary libraries\n",
    "import pandas as pd\n",
    "import numpy as np\n",
    "import seaborn as sns\n",
    "from matplotlib import pyplot as plt\n",
    "from matplotlib import style\n",
    "# We'll use the fivethirtyeight style for the entire report. \n",
    "style.use('fivethirtyeight')\n",
    "\n",
    "# Load the data\n",
    "df = pd.read_csv('MentalHealthSurvey.csv')\n",
    "print(df.shape)\n",
    "df.head()"
   ]
  },
  {
   "cell_type": "markdown",
   "metadata": {},
   "source": [
    "The data has the following variables: "
   ]
  },
  {
   "cell_type": "code",
   "execution_count": 329,
   "metadata": {
    "collapsed": false
   },
   "outputs": [
    {
     "name": "stdout",
     "output_type": "stream",
     "text": [
      "['Timestamp' 'Age' 'Gender' 'Country' 'state' 'self_employed'\n",
      " 'family_history' 'treatment' 'work_interfere' 'no_employees' 'remote_work'\n",
      " 'tech_company' 'benefits' 'care_options' 'wellness_program' 'seek_help'\n",
      " 'anonymity' 'leave' 'mental_health_consequence' 'phys_health_consequence'\n",
      " 'coworkers' 'supervisor' 'mental_health_interview' 'phys_health_interview'\n",
      " 'mental_vs_physical' 'obs_consequence' 'comments']\n"
     ]
    }
   ],
   "source": [
    "print(df.columns.values)"
   ]
  },
  {
   "cell_type": "markdown",
   "metadata": {},
   "source": [
    "This dataset is from a 2014 survey that measures attitudes towards mental health and the frequency of mental health disorders in the workplace all across the world. It was collected by Open Sourcing Mental Illness, a nonprofit organization dedicated to raising awareness, educating, and providing resources to support mental wellness in tech communities. \n",
    "\n",
    "The data was collected by surveying anonymous tech employees. The anonymity of this survey inclines us to believe that the contents are truthful and reliable, as the respondents wouldn't have any reason to answer untruthfully. "
   ]
  },
  {
   "cell_type": "markdown",
   "metadata": {},
   "source": [
    "# Part Two: Exploratory Data Analysis"
   ]
  },
  {
   "cell_type": "markdown",
   "metadata": {},
   "source": [
    "We will break this down into three parts: Cleaning the data, visualizing the cleaned data, and engineering new features based on insights we draw. Part of cleaning the data requires some visualization, so there may be overlap, and some of the data may be changed after generating insights from the graphs, but for clarity we will try and keep the three parts separate. \n",
    "\n",
    "Step 1: Data Cleanup\n",
    "\n",
    "Step 2: Data Visualization \n",
    "\n",
    "Step 3: Feature Engineering"
   ]
  },
  {
   "cell_type": "markdown",
   "metadata": {},
   "source": [
    "## Step 1. Data Cleanup"
   ]
  },
  {
   "cell_type": "code",
   "execution_count": 330,
   "metadata": {
    "collapsed": true
   },
   "outputs": [],
   "source": [
    "import pandas as pd\n",
    "import numpy as np\n",
    "import seaborn as sns\n",
    "import matplotlib.pyplot as plt"
   ]
  },
  {
   "cell_type": "code",
   "execution_count": 331,
   "metadata": {
    "collapsed": false,
    "scrolled": true
   },
   "outputs": [
    {
     "data": {
      "text/plain": [
       "Timestamp                       0\n",
       "Age                             0\n",
       "Gender                          0\n",
       "Country                         0\n",
       "state                         515\n",
       "self_employed                  18\n",
       "family_history                  0\n",
       "treatment                       0\n",
       "work_interfere                264\n",
       "no_employees                    0\n",
       "remote_work                     0\n",
       "tech_company                    0\n",
       "benefits                        0\n",
       "care_options                    0\n",
       "wellness_program                0\n",
       "seek_help                       0\n",
       "anonymity                       0\n",
       "leave                           0\n",
       "mental_health_consequence       0\n",
       "phys_health_consequence         0\n",
       "coworkers                       0\n",
       "supervisor                      0\n",
       "mental_health_interview         0\n",
       "phys_health_interview           0\n",
       "mental_vs_physical              0\n",
       "obs_consequence                 0\n",
       "comments                     1095\n",
       "dtype: int64"
      ]
     },
     "execution_count": 331,
     "metadata": {},
     "output_type": "execute_result"
    }
   ],
   "source": [
    "np.sum(df.isnull())"
   ]
  },
  {
   "cell_type": "markdown",
   "metadata": {},
   "source": [
    "It's apparent that we have a fair amount of missing data to deal with. Let's take variables one by one to make sure they're in proper shape. "
   ]
  },
  {
   "cell_type": "markdown",
   "metadata": {},
   "source": [
    "### 1.1 - Age"
   ]
  },
  {
   "cell_type": "code",
   "execution_count": 332,
   "metadata": {
    "collapsed": false
   },
   "outputs": [
    {
     "name": "stdout",
     "output_type": "stream",
     "text": [
      "-1726\n",
      "99999999999\n",
      "[  -29 -1726    -1]\n",
      "[  -29 -1726     5     8    11    -1]\n"
     ]
    }
   ],
   "source": [
    "# Determine if there are any unsual ages \n",
    "print(min(df.Age))\n",
    "print(max(df.Age))\n",
    "print(df.Age[df.Age<=0].values)\n",
    "print(df.Age[df.Age<18].values)\n",
    "\n",
    "# Fix the -29\n",
    "df.loc[143,'Age'] = 29\n",
    "\n",
    "# Remove rows with the odd ages \n",
    "df = df.loc[-df.Age.isin([-1, -1726, 5, 8, 11, 329, 99999999999]), :]"
   ]
  },
  {
   "cell_type": "markdown",
   "metadata": {},
   "source": [
    "We'll confirm now that the age looks proper: "
   ]
  },
  {
   "cell_type": "code",
   "execution_count": 333,
   "metadata": {
    "collapsed": false
   },
   "outputs": [
    {
     "name": "stdout",
     "output_type": "stream",
     "text": [
      "[18 19 20 21 22 23 24 25 26 27 28 29 30 31 32 33 34 35 36 37 38 39 40 41 42\n",
      " 43 44 45 46 47 48 49 50 51 53 54 55 56 57 58 60 61 62 65 72]\n"
     ]
    }
   ],
   "source": [
    "print(np.sort(df.Age.unique()))"
   ]
  },
  {
   "cell_type": "markdown",
   "metadata": {},
   "source": [
    "### 1.2  - Gender\n",
    "\n",
    "Gender is very messy, and not coded properly at all. We will code for three genders: Male, Female, Trans. "
   ]
  },
  {
   "cell_type": "code",
   "execution_count": 334,
   "metadata": {
    "collapsed": false
   },
   "outputs": [
    {
     "data": {
      "text/plain": [
       "array(['Female', 'Male', 'Trans'], dtype=object)"
      ]
     },
     "execution_count": 334,
     "metadata": {},
     "output_type": "execute_result"
    }
   ],
   "source": [
    "df.Gender.replace(to_replace=[\"M\", \"male\", \"m\", \"Male-ish\", \"maile\", \"Mal\", \"Male (CIS)\", \"Make\", \n",
    "                              \"Male \", \"Man\",\"msle\", \"Mail\", \"Malr\",\"Cis Man\", \"Cis Male\", \"cis male\"], \n",
    "                 value='Male', \n",
    "                 inplace = True)\n",
    "df.Gender.replace(to_replace = [\"Trans-female\", \"something kinda male?\", \"queer/she/they\", \n",
    "                                \"non-binary\",\"Nah\", \"all\", \"Enby\", \"fluid\", \"Genderqueer\", \n",
    "                                \"Androgyne\", \"Agender\", \"male leaning androgynous\", \"Guy (-ish) ^_^\", \n",
    "                                \"Trans woman\", \"Neuter\", \"Female (trans)\", \"queer\", \n",
    "                                \"ostensibly male, unsure what that really means\"], \n",
    "                 value = 'Trans', \n",
    "                 inplace = True)\n",
    "df.Gender.replace(to_replace=[\"Cis Female\", \"F\", 'f', 'woman', \"female\", \"Woman\",  \"Femake\", \"Female \",\n",
    "                              \"cis-female/femme\", \"Female (cis)\", \"femail\"], \n",
    "                 value = 'Female', \n",
    "                 inplace = True)\n",
    "df.Gender.unique()"
   ]
  },
  {
   "cell_type": "markdown",
   "metadata": {},
   "source": [
    "### 1.3 - Country\n",
    "    \n",
    "There are a lot of classes. We'll need to recode sparse classes. "
   ]
  },
  {
   "cell_type": "code",
   "execution_count": 335,
   "metadata": {
    "collapsed": false,
    "scrolled": true
   },
   "outputs": [
    {
     "data": {
      "text/plain": [
       "array(['United States', 'Canada', 'United Kingdom', 'Bulgaria', 'France',\n",
       "       'Portugal', 'Netherlands', 'Switzerland', 'Poland', 'Australia',\n",
       "       'Germany', 'Russia', 'Mexico', 'Brazil', 'Slovenia', 'Costa Rica',\n",
       "       'Austria', 'Ireland', 'India', 'South Africa', 'Italy', 'Sweden',\n",
       "       'Colombia', 'Latvia', 'Romania', 'Belgium', 'New Zealand', 'Spain',\n",
       "       'Finland', 'Uruguay', 'Israel', 'Bosnia and Herzegovina', 'Hungary',\n",
       "       'Singapore', 'Japan', 'Nigeria', 'Croatia', 'Norway', 'Thailand',\n",
       "       'Denmark', 'Greece', 'Moldova', 'Georgia', 'China',\n",
       "       'Czech Republic', 'Philippines'], dtype=object)"
      ]
     },
     "execution_count": 335,
     "metadata": {},
     "output_type": "execute_result"
    }
   ],
   "source": [
    "df.Country.unique()"
   ]
  },
  {
   "cell_type": "code",
   "execution_count": 336,
   "metadata": {
    "collapsed": false
   },
   "outputs": [
    {
     "data": {
      "image/png": "[encoded data removed]",
      "text/plain": [
       "<matplotlib.figure.Figure at 0x11fb05650>"
      ]
     },
     "metadata": {},
     "output_type": "display_data"
    }
   ],
   "source": [
    "sns.countplot(y=df.Country)\n",
    "plt.title('Countplot of Nations in Data')\n",
    "plt.xlabel('Frequency')\n",
    "plt.show()"
   ]
  },
  {
   "cell_type": "markdown",
   "metadata": {},
   "source": [
    "We'll make four categories - United States, United Kingdom, Canada, Other"
   ]
  },
  {
   "cell_type": "code",
   "execution_count": 337,
   "metadata": {
    "collapsed": false
   },
   "outputs": [],
   "source": [
    "df.Country.replace(to_replace = ['Germany','Mexico','Australia','New Zealand','Czech Republic','Denmark', \n",
    "                                 'Greece', 'Moldova','Croatia', 'Norway','Bosnia and Herzegovina','Finland',\n",
    "                                 'Spain','Latvia', 'Romania', 'Belgium','Italy', 'Sweden','Austria', 'Ireland', \n",
    "                                 'Bulgaria', 'France','Portugal', 'Netherlands', 'Switzerland', 'Poland',\n",
    "                                 'Georgia','Philippines','China','Thailand','Hungary', 'Singapore', 'Japan',\n",
    "                                 'India','Israel','Costa Rica','Brazil','Colombia','South Africa','Nigeria'],\n",
    "                  value = 'Other',\n",
    "                  inplace = True)\n",
    "df.Country.replace(to_replace=['Russia', 'Slovenia','Uruguay','Georgia'], value = 'Other', inplace = True)"
   ]
  },
  {
   "cell_type": "code",
   "execution_count": 338,
   "metadata": {
    "collapsed": false
   },
   "outputs": [
    {
     "data": {
      "image/png": "[encoded data removed]",
      "text/plain": [
       "<matplotlib.figure.Figure at 0x11f53a7d0>"
      ]
     },
     "metadata": {},
     "output_type": "display_data"
    }
   ],
   "source": [
    "sns.countplot(y=df.Country)\n",
    "plt.title('Countplot of Nations in Data')\n",
    "plt.xlabel('Frequency')\n",
    "plt.show()"
   ]
  },
  {
   "cell_type": "markdown",
   "metadata": {},
   "source": [
    "Canada appears pretty sparse, but we'll leave it - the important distinction here is that Canada has distinctly different health care than many of the nations in \"Other\", and the US. \n",
    "\n",
    "Truthfully, the best way to recode these variables would be by grouping different nations into categories based on their healthcare systems, but that would be quite tedious. We'll settle for what we have, here. "
   ]
  },
  {
   "cell_type": "markdown",
   "metadata": {},
   "source": [
    "### 1.4 - Comments\n",
    "\n",
    "We'll recode commments - 1 for a comment left, 0 for no comment left. Those who leave a comment are more likely to feel passionate about mental health, or have a story to tell about their own mental health struggles. This may mean they are also more inclined to seek treatment, which could be a helpful predictor. "
   ]
  },
  {
   "cell_type": "code",
   "execution_count": 339,
   "metadata": {
    "collapsed": false
   },
   "outputs": [
    {
     "name": "stdout",
     "output_type": "stream",
     "text": [
      "[0 1]\n"
     ]
    }
   ],
   "source": [
    "df.loc[df.comments.notnull(), 'comments'] = 1\n",
    "df.loc[df.comments != 1, 'comments'] = 0\n",
    "print(df.comments.unique())\n",
    "df.comments=df.comments.astype(int)\n"
   ]
  },
  {
   "cell_type": "code",
   "execution_count": 340,
   "metadata": {
    "collapsed": false
   },
   "outputs": [
    {
     "data": {
      "text/plain": [
       "array([0, 1])"
      ]
     },
     "execution_count": 340,
     "metadata": {},
     "output_type": "execute_result"
    }
   ],
   "source": [
    "df.comments.unique()"
   ]
  },
  {
   "cell_type": "code",
   "execution_count": 341,
   "metadata": {
    "collapsed": false
   },
   "outputs": [
    {
     "data": {
      "image/png": "[encoded data removed]",
      "text/plain": [
       "<matplotlib.figure.Figure at 0x11e14aad0>"
      ]
     },
     "metadata": {},
     "output_type": "display_data"
    }
   ],
   "source": [
    "sns.countplot(df.comments, hue = df.treatment)\n",
    "plt.title('Treatment vs. Comments')\n",
    "plt.xlabel('Whether a Comment was Made')\n",
    "plt.ylabel('Frequency')\n",
    "plt.xticks((0, 1), ('No', 'Yes'))\n",
    "plt.show()"
   ]
  },
  {
   "cell_type": "markdown",
   "metadata": {},
   "source": [
    "### 1.5 - Work Interfere"
   ]
  },
  {
   "cell_type": "markdown",
   "metadata": {},
   "source": [
    "This is a variable about whether or not an individual believes their mental health interferes with their work. \n",
    "\n",
    "There are a lot of missing values, so it would be helpful to know how their responses are distributed. "
   ]
  },
  {
   "cell_type": "code",
   "execution_count": 342,
   "metadata": {
    "collapsed": false
   },
   "outputs": [
    {
     "name": "stdout",
     "output_type": "stream",
     "text": [
      "['Often' 'Rarely' 'Never' 'Sometimes' nan]\n",
      "Sometimes    464\n",
      "Never        212\n",
      "Rarely       173\n",
      "Often        140\n",
      "Name: work_interfere, dtype: int64\n"
     ]
    }
   ],
   "source": [
    "print(df.work_interfere.unique())\n",
    "print(df.work_interfere.value_counts())"
   ]
  },
  {
   "cell_type": "markdown",
   "metadata": {},
   "source": [
    "Some people declined to answer. This could either be because they believe it does significantly interfere with their work, and are afraid to answer as such, or it doesn't effect them very much at all so they didn't care to answer. \n",
    "    \n",
    "It makes sense that an individual whose mental health often interferes with their work is more likely to seek treatment. So we can determine which category makes sense to impute with based on how often treatment appears in each category. "
   ]
  },
  {
   "cell_type": "code",
   "execution_count": 343,
   "metadata": {
    "collapsed": false
   },
   "outputs": [
    {
     "data": {
      "image/png": "[encoded data removed]",
      "text/plain": [
       "<matplotlib.figure.Figure at 0x11f345e50>"
      ]
     },
     "metadata": {},
     "output_type": "display_data"
    }
   ],
   "source": [
    "df.loc[df.work_interfere.isnull(), 'work_interfere'] = 'No Response'\n",
    "style.use('fivethirtyeight')\n",
    "sns.countplot(x=df.work_interfere, hue = df.treatment)\n",
    "plt.title('Count Plot of Mental Health Interfering with Work')\n",
    "plt.ylabel('Frequency')\n",
    "plt.xlabel('Work Interference Categories')\n",
    "plt.show()"
   ]
  },
  {
   "cell_type": "markdown",
   "metadata": {},
   "source": [
    "Individuals who didn't respond overwhelmingly didn't seek any treatment, just as the \"Never\" category overwhelmingly doesn't seek treatment. So we will impute these as \"Never\". "
   ]
  },
  {
   "cell_type": "code",
   "execution_count": 344,
   "metadata": {
    "collapsed": false
   },
   "outputs": [
    {
     "data": {
      "image/png": "[encoded data removed]",
      "text/plain": [
       "<matplotlib.figure.Figure at 0x11f705590>"
      ]
     },
     "metadata": {},
     "output_type": "display_data"
    }
   ],
   "source": [
    "df.loc[df.work_interfere=='No Response', 'work_interfere'] = 'Never'\n",
    "sns.countplot(y=df.work_interfere)\n",
    "plt.title('Count Plot of Mental Health Interfering with Work')\n",
    "plt.xlabel('Frequency')\n",
    "plt.ylabel('Work Interference Categories')\n",
    "plt.show()"
   ]
  },
  {
   "cell_type": "markdown",
   "metadata": {},
   "source": [
    "### 1.7 - Self-Employed Status\n",
    "As noted above, there are 18 values that are missing for self-employed. Perhaps information from the other variables can give us insight as to whether or not they are self-employed. "
   ]
  },
  {
   "cell_type": "code",
   "execution_count": 345,
   "metadata": {
    "collapsed": false,
    "scrolled": true
   },
   "outputs": [
    {
     "data": {
      "text/html": [
       "<div>\n",
       "<table border=\"1\" class=\"dataframe\">\n",
       "  <thead>\n",
       "    <tr style=\"text-align: right;\">\n",
       "      <th></th>\n",
       "      <th>Timestamp</th>\n",
       "      <th>Age</th>\n",
       "      <th>Gender</th>\n",
       "      <th>Country</th>\n",
       "      <th>state</th>\n",
       "      <th>self_employed</th>\n",
       "      <th>family_history</th>\n",
       "      <th>treatment</th>\n",
       "      <th>work_interfere</th>\n",
       "      <th>no_employees</th>\n",
       "      <th>...</th>\n",
       "      <th>leave</th>\n",
       "      <th>mental_health_consequence</th>\n",
       "      <th>phys_health_consequence</th>\n",
       "      <th>coworkers</th>\n",
       "      <th>supervisor</th>\n",
       "      <th>mental_health_interview</th>\n",
       "      <th>phys_health_interview</th>\n",
       "      <th>mental_vs_physical</th>\n",
       "      <th>obs_consequence</th>\n",
       "      <th>comments</th>\n",
       "    </tr>\n",
       "  </thead>\n",
       "  <tbody>\n",
       "    <tr>\n",
       "      <th>0</th>\n",
       "      <td>2014-08-27 11:29:31</td>\n",
       "      <td>37</td>\n",
       "      <td>Female</td>\n",
       "      <td>United States</td>\n",
       "      <td>IL</td>\n",
       "      <td>NaN</td>\n",
       "      <td>No</td>\n",
       "      <td>Yes</td>\n",
       "      <td>Often</td>\n",
       "      <td>6-25</td>\n",
       "      <td>...</td>\n",
       "      <td>Somewhat easy</td>\n",
       "      <td>No</td>\n",
       "      <td>No</td>\n",
       "      <td>Some of them</td>\n",
       "      <td>Yes</td>\n",
       "      <td>No</td>\n",
       "      <td>Maybe</td>\n",
       "      <td>Yes</td>\n",
       "      <td>No</td>\n",
       "      <td>0</td>\n",
       "    </tr>\n",
       "    <tr>\n",
       "      <th>1</th>\n",
       "      <td>2014-08-27 11:29:37</td>\n",
       "      <td>44</td>\n",
       "      <td>Male</td>\n",
       "      <td>United States</td>\n",
       "      <td>IN</td>\n",
       "      <td>NaN</td>\n",
       "      <td>No</td>\n",
       "      <td>No</td>\n",
       "      <td>Rarely</td>\n",
       "      <td>More than 1000</td>\n",
       "      <td>...</td>\n",
       "      <td>Don't know</td>\n",
       "      <td>Maybe</td>\n",
       "      <td>No</td>\n",
       "      <td>No</td>\n",
       "      <td>No</td>\n",
       "      <td>No</td>\n",
       "      <td>No</td>\n",
       "      <td>Don't know</td>\n",
       "      <td>No</td>\n",
       "      <td>0</td>\n",
       "    </tr>\n",
       "    <tr>\n",
       "      <th>2</th>\n",
       "      <td>2014-08-27 11:29:44</td>\n",
       "      <td>32</td>\n",
       "      <td>Male</td>\n",
       "      <td>Canada</td>\n",
       "      <td>NaN</td>\n",
       "      <td>NaN</td>\n",
       "      <td>No</td>\n",
       "      <td>No</td>\n",
       "      <td>Rarely</td>\n",
       "      <td>6-25</td>\n",
       "      <td>...</td>\n",
       "      <td>Somewhat difficult</td>\n",
       "      <td>No</td>\n",
       "      <td>No</td>\n",
       "      <td>Yes</td>\n",
       "      <td>Yes</td>\n",
       "      <td>Yes</td>\n",
       "      <td>Yes</td>\n",
       "      <td>No</td>\n",
       "      <td>No</td>\n",
       "      <td>0</td>\n",
       "    </tr>\n",
       "    <tr>\n",
       "      <th>3</th>\n",
       "      <td>2014-08-27 11:29:46</td>\n",
       "      <td>31</td>\n",
       "      <td>Male</td>\n",
       "      <td>United Kingdom</td>\n",
       "      <td>NaN</td>\n",
       "      <td>NaN</td>\n",
       "      <td>Yes</td>\n",
       "      <td>Yes</td>\n",
       "      <td>Often</td>\n",
       "      <td>26-100</td>\n",
       "      <td>...</td>\n",
       "      <td>Somewhat difficult</td>\n",
       "      <td>Yes</td>\n",
       "      <td>Yes</td>\n",
       "      <td>Some of them</td>\n",
       "      <td>No</td>\n",
       "      <td>Maybe</td>\n",
       "      <td>Maybe</td>\n",
       "      <td>No</td>\n",
       "      <td>Yes</td>\n",
       "      <td>0</td>\n",
       "    </tr>\n",
       "    <tr>\n",
       "      <th>4</th>\n",
       "      <td>2014-08-27 11:30:22</td>\n",
       "      <td>31</td>\n",
       "      <td>Male</td>\n",
       "      <td>United States</td>\n",
       "      <td>TX</td>\n",
       "      <td>NaN</td>\n",
       "      <td>No</td>\n",
       "      <td>No</td>\n",
       "      <td>Never</td>\n",
       "      <td>100-500</td>\n",
       "      <td>...</td>\n",
       "      <td>Don't know</td>\n",
       "      <td>No</td>\n",
       "      <td>No</td>\n",
       "      <td>Some of them</td>\n",
       "      <td>Yes</td>\n",
       "      <td>Yes</td>\n",
       "      <td>Yes</td>\n",
       "      <td>Don't know</td>\n",
       "      <td>No</td>\n",
       "      <td>0</td>\n",
       "    </tr>\n",
       "    <tr>\n",
       "      <th>5</th>\n",
       "      <td>2014-08-27 11:31:22</td>\n",
       "      <td>33</td>\n",
       "      <td>Male</td>\n",
       "      <td>United States</td>\n",
       "      <td>TN</td>\n",
       "      <td>NaN</td>\n",
       "      <td>Yes</td>\n",
       "      <td>No</td>\n",
       "      <td>Sometimes</td>\n",
       "      <td>6-25</td>\n",
       "      <td>...</td>\n",
       "      <td>Don't know</td>\n",
       "      <td>No</td>\n",
       "      <td>No</td>\n",
       "      <td>Yes</td>\n",
       "      <td>Yes</td>\n",
       "      <td>No</td>\n",
       "      <td>Maybe</td>\n",
       "      <td>Don't know</td>\n",
       "      <td>No</td>\n",
       "      <td>0</td>\n",
       "    </tr>\n",
       "    <tr>\n",
       "      <th>6</th>\n",
       "      <td>2014-08-27 11:31:50</td>\n",
       "      <td>35</td>\n",
       "      <td>Female</td>\n",
       "      <td>United States</td>\n",
       "      <td>MI</td>\n",
       "      <td>NaN</td>\n",
       "      <td>Yes</td>\n",
       "      <td>Yes</td>\n",
       "      <td>Sometimes</td>\n",
       "      <td>1-5</td>\n",
       "      <td>...</td>\n",
       "      <td>Somewhat difficult</td>\n",
       "      <td>Maybe</td>\n",
       "      <td>Maybe</td>\n",
       "      <td>Some of them</td>\n",
       "      <td>No</td>\n",
       "      <td>No</td>\n",
       "      <td>No</td>\n",
       "      <td>Don't know</td>\n",
       "      <td>No</td>\n",
       "      <td>0</td>\n",
       "    </tr>\n",
       "    <tr>\n",
       "      <th>7</th>\n",
       "      <td>2014-08-27 11:32:05</td>\n",
       "      <td>39</td>\n",
       "      <td>Male</td>\n",
       "      <td>Canada</td>\n",
       "      <td>NaN</td>\n",
       "      <td>NaN</td>\n",
       "      <td>No</td>\n",
       "      <td>No</td>\n",
       "      <td>Never</td>\n",
       "      <td>1-5</td>\n",
       "      <td>...</td>\n",
       "      <td>Don't know</td>\n",
       "      <td>No</td>\n",
       "      <td>No</td>\n",
       "      <td>No</td>\n",
       "      <td>No</td>\n",
       "      <td>No</td>\n",
       "      <td>No</td>\n",
       "      <td>No</td>\n",
       "      <td>No</td>\n",
       "      <td>0</td>\n",
       "    </tr>\n",
       "    <tr>\n",
       "      <th>8</th>\n",
       "      <td>2014-08-27 11:32:39</td>\n",
       "      <td>42</td>\n",
       "      <td>Female</td>\n",
       "      <td>United States</td>\n",
       "      <td>IL</td>\n",
       "      <td>NaN</td>\n",
       "      <td>Yes</td>\n",
       "      <td>Yes</td>\n",
       "      <td>Sometimes</td>\n",
       "      <td>100-500</td>\n",
       "      <td>...</td>\n",
       "      <td>Very difficult</td>\n",
       "      <td>Maybe</td>\n",
       "      <td>No</td>\n",
       "      <td>Yes</td>\n",
       "      <td>Yes</td>\n",
       "      <td>No</td>\n",
       "      <td>Maybe</td>\n",
       "      <td>No</td>\n",
       "      <td>No</td>\n",
       "      <td>0</td>\n",
       "    </tr>\n",
       "    <tr>\n",
       "      <th>9</th>\n",
       "      <td>2014-08-27 11:32:43</td>\n",
       "      <td>23</td>\n",
       "      <td>Male</td>\n",
       "      <td>Canada</td>\n",
       "      <td>NaN</td>\n",
       "      <td>NaN</td>\n",
       "      <td>No</td>\n",
       "      <td>No</td>\n",
       "      <td>Never</td>\n",
       "      <td>26-100</td>\n",
       "      <td>...</td>\n",
       "      <td>Don't know</td>\n",
       "      <td>No</td>\n",
       "      <td>No</td>\n",
       "      <td>Yes</td>\n",
       "      <td>Yes</td>\n",
       "      <td>Maybe</td>\n",
       "      <td>Maybe</td>\n",
       "      <td>Yes</td>\n",
       "      <td>No</td>\n",
       "      <td>0</td>\n",
       "    </tr>\n",
       "    <tr>\n",
       "      <th>10</th>\n",
       "      <td>2014-08-27 11:32:44</td>\n",
       "      <td>31</td>\n",
       "      <td>Male</td>\n",
       "      <td>United States</td>\n",
       "      <td>OH</td>\n",
       "      <td>NaN</td>\n",
       "      <td>No</td>\n",
       "      <td>Yes</td>\n",
       "      <td>Sometimes</td>\n",
       "      <td>6-25</td>\n",
       "      <td>...</td>\n",
       "      <td>Don't know</td>\n",
       "      <td>No</td>\n",
       "      <td>No</td>\n",
       "      <td>Some of them</td>\n",
       "      <td>Yes</td>\n",
       "      <td>No</td>\n",
       "      <td>No</td>\n",
       "      <td>Don't know</td>\n",
       "      <td>No</td>\n",
       "      <td>0</td>\n",
       "    </tr>\n",
       "    <tr>\n",
       "      <th>11</th>\n",
       "      <td>2014-08-27 11:32:49</td>\n",
       "      <td>29</td>\n",
       "      <td>Male</td>\n",
       "      <td>Other</td>\n",
       "      <td>NaN</td>\n",
       "      <td>NaN</td>\n",
       "      <td>No</td>\n",
       "      <td>No</td>\n",
       "      <td>Never</td>\n",
       "      <td>100-500</td>\n",
       "      <td>...</td>\n",
       "      <td>Don't know</td>\n",
       "      <td>No</td>\n",
       "      <td>No</td>\n",
       "      <td>Yes</td>\n",
       "      <td>Yes</td>\n",
       "      <td>Yes</td>\n",
       "      <td>Yes</td>\n",
       "      <td>Don't know</td>\n",
       "      <td>No</td>\n",
       "      <td>0</td>\n",
       "    </tr>\n",
       "    <tr>\n",
       "      <th>12</th>\n",
       "      <td>2014-08-27 11:33:23</td>\n",
       "      <td>42</td>\n",
       "      <td>Female</td>\n",
       "      <td>United States</td>\n",
       "      <td>CA</td>\n",
       "      <td>NaN</td>\n",
       "      <td>Yes</td>\n",
       "      <td>Yes</td>\n",
       "      <td>Sometimes</td>\n",
       "      <td>26-100</td>\n",
       "      <td>...</td>\n",
       "      <td>Somewhat difficult</td>\n",
       "      <td>Yes</td>\n",
       "      <td>Yes</td>\n",
       "      <td>Yes</td>\n",
       "      <td>Yes</td>\n",
       "      <td>Maybe</td>\n",
       "      <td>Maybe</td>\n",
       "      <td>No</td>\n",
       "      <td>Yes</td>\n",
       "      <td>0</td>\n",
       "    </tr>\n",
       "    <tr>\n",
       "      <th>13</th>\n",
       "      <td>2014-08-27 11:33:26</td>\n",
       "      <td>36</td>\n",
       "      <td>Male</td>\n",
       "      <td>United States</td>\n",
       "      <td>CT</td>\n",
       "      <td>NaN</td>\n",
       "      <td>Yes</td>\n",
       "      <td>No</td>\n",
       "      <td>Never</td>\n",
       "      <td>500-1000</td>\n",
       "      <td>...</td>\n",
       "      <td>Don't know</td>\n",
       "      <td>No</td>\n",
       "      <td>No</td>\n",
       "      <td>Yes</td>\n",
       "      <td>Yes</td>\n",
       "      <td>No</td>\n",
       "      <td>No</td>\n",
       "      <td>Don't know</td>\n",
       "      <td>No</td>\n",
       "      <td>1</td>\n",
       "    </tr>\n",
       "    <tr>\n",
       "      <th>14</th>\n",
       "      <td>2014-08-27 11:33:57</td>\n",
       "      <td>27</td>\n",
       "      <td>Male</td>\n",
       "      <td>Canada</td>\n",
       "      <td>NaN</td>\n",
       "      <td>NaN</td>\n",
       "      <td>No</td>\n",
       "      <td>No</td>\n",
       "      <td>Never</td>\n",
       "      <td>6-25</td>\n",
       "      <td>...</td>\n",
       "      <td>Somewhat easy</td>\n",
       "      <td>No</td>\n",
       "      <td>No</td>\n",
       "      <td>Some of them</td>\n",
       "      <td>Some of them</td>\n",
       "      <td>Maybe</td>\n",
       "      <td>Yes</td>\n",
       "      <td>Yes</td>\n",
       "      <td>No</td>\n",
       "      <td>0</td>\n",
       "    </tr>\n",
       "    <tr>\n",
       "      <th>15</th>\n",
       "      <td>2014-08-27 11:34:00</td>\n",
       "      <td>29</td>\n",
       "      <td>Female</td>\n",
       "      <td>United States</td>\n",
       "      <td>IL</td>\n",
       "      <td>NaN</td>\n",
       "      <td>Yes</td>\n",
       "      <td>Yes</td>\n",
       "      <td>Rarely</td>\n",
       "      <td>26-100</td>\n",
       "      <td>...</td>\n",
       "      <td>Somewhat easy</td>\n",
       "      <td>No</td>\n",
       "      <td>No</td>\n",
       "      <td>Yes</td>\n",
       "      <td>Some of them</td>\n",
       "      <td>Maybe</td>\n",
       "      <td>Maybe</td>\n",
       "      <td>Don't know</td>\n",
       "      <td>No</td>\n",
       "      <td>1</td>\n",
       "    </tr>\n",
       "    <tr>\n",
       "      <th>16</th>\n",
       "      <td>2014-08-27 11:34:20</td>\n",
       "      <td>23</td>\n",
       "      <td>Male</td>\n",
       "      <td>United Kingdom</td>\n",
       "      <td>NaN</td>\n",
       "      <td>NaN</td>\n",
       "      <td>No</td>\n",
       "      <td>Yes</td>\n",
       "      <td>Sometimes</td>\n",
       "      <td>26-100</td>\n",
       "      <td>...</td>\n",
       "      <td>Very easy</td>\n",
       "      <td>Maybe</td>\n",
       "      <td>No</td>\n",
       "      <td>Some of them</td>\n",
       "      <td>No</td>\n",
       "      <td>Maybe</td>\n",
       "      <td>Maybe</td>\n",
       "      <td>No</td>\n",
       "      <td>No</td>\n",
       "      <td>1</td>\n",
       "    </tr>\n",
       "    <tr>\n",
       "      <th>17</th>\n",
       "      <td>2014-08-27 11:34:37</td>\n",
       "      <td>32</td>\n",
       "      <td>Male</td>\n",
       "      <td>United States</td>\n",
       "      <td>TN</td>\n",
       "      <td>NaN</td>\n",
       "      <td>No</td>\n",
       "      <td>Yes</td>\n",
       "      <td>Sometimes</td>\n",
       "      <td>6-25</td>\n",
       "      <td>...</td>\n",
       "      <td>Don't know</td>\n",
       "      <td>Maybe</td>\n",
       "      <td>No</td>\n",
       "      <td>Some of them</td>\n",
       "      <td>Yes</td>\n",
       "      <td>No</td>\n",
       "      <td>No</td>\n",
       "      <td>No</td>\n",
       "      <td>No</td>\n",
       "      <td>0</td>\n",
       "    </tr>\n",
       "  </tbody>\n",
       "</table>\n",
       "<p>18 rows × 27 columns</p>\n",
       "</div>"
      ],
      "text/plain": [
       "              Timestamp  Age  Gender         Country state self_employed  \\\n",
       "0   2014-08-27 11:29:31   37  Female   United States    IL           NaN   \n",
       "1   2014-08-27 11:29:37   44    Male   United States    IN           NaN   \n",
       "2   2014-08-27 11:29:44   32    Male          Canada   NaN           NaN   \n",
       "3   2014-08-27 11:29:46   31    Male  United Kingdom   NaN           NaN   \n",
       "4   2014-08-27 11:30:22   31    Male   United States    TX           NaN   \n",
       "5   2014-08-27 11:31:22   33    Male   United States    TN           NaN   \n",
       "6   2014-08-27 11:31:50   35  Female   United States    MI           NaN   \n",
       "7   2014-08-27 11:32:05   39    Male          Canada   NaN           NaN   \n",
       "8   2014-08-27 11:32:39   42  Female   United States    IL           NaN   \n",
       "9   2014-08-27 11:32:43   23    Male          Canada   NaN           NaN   \n",
       "10  2014-08-27 11:32:44   31    Male   United States    OH           NaN   \n",
       "11  2014-08-27 11:32:49   29    Male           Other   NaN           NaN   \n",
       "12  2014-08-27 11:33:23   42  Female   United States    CA           NaN   \n",
       "13  2014-08-27 11:33:26   36    Male   United States    CT           NaN   \n",
       "14  2014-08-27 11:33:57   27    Male          Canada   NaN           NaN   \n",
       "15  2014-08-27 11:34:00   29  Female   United States    IL           NaN   \n",
       "16  2014-08-27 11:34:20   23    Male  United Kingdom   NaN           NaN   \n",
       "17  2014-08-27 11:34:37   32    Male   United States    TN           NaN   \n",
       "\n",
       "   family_history treatment work_interfere    no_employees   ...     \\\n",
       "0              No       Yes          Often            6-25   ...      \n",
       "1              No        No         Rarely  More than 1000   ...      \n",
       "2              No        No         Rarely            6-25   ...      \n",
       "3             Yes       Yes          Often          26-100   ...      \n",
       "4              No        No          Never         100-500   ...      \n",
       "5             Yes        No      Sometimes            6-25   ...      \n",
       "6             Yes       Yes      Sometimes             1-5   ...      \n",
       "7              No        No          Never             1-5   ...      \n",
       "8             Yes       Yes      Sometimes         100-500   ...      \n",
       "9              No        No          Never          26-100   ...      \n",
       "10             No       Yes      Sometimes            6-25   ...      \n",
       "11             No        No          Never         100-500   ...      \n",
       "12            Yes       Yes      Sometimes          26-100   ...      \n",
       "13            Yes        No          Never        500-1000   ...      \n",
       "14             No        No          Never            6-25   ...      \n",
       "15            Yes       Yes         Rarely          26-100   ...      \n",
       "16             No       Yes      Sometimes          26-100   ...      \n",
       "17             No       Yes      Sometimes            6-25   ...      \n",
       "\n",
       "                 leave mental_health_consequence phys_health_consequence  \\\n",
       "0        Somewhat easy                        No                      No   \n",
       "1           Don't know                     Maybe                      No   \n",
       "2   Somewhat difficult                        No                      No   \n",
       "3   Somewhat difficult                       Yes                     Yes   \n",
       "4           Don't know                        No                      No   \n",
       "5           Don't know                        No                      No   \n",
       "6   Somewhat difficult                     Maybe                   Maybe   \n",
       "7           Don't know                        No                      No   \n",
       "8       Very difficult                     Maybe                      No   \n",
       "9           Don't know                        No                      No   \n",
       "10          Don't know                        No                      No   \n",
       "11          Don't know                        No                      No   \n",
       "12  Somewhat difficult                       Yes                     Yes   \n",
       "13          Don't know                        No                      No   \n",
       "14       Somewhat easy                        No                      No   \n",
       "15       Somewhat easy                        No                      No   \n",
       "16           Very easy                     Maybe                      No   \n",
       "17          Don't know                     Maybe                      No   \n",
       "\n",
       "       coworkers    supervisor mental_health_interview phys_health_interview  \\\n",
       "0   Some of them           Yes                      No                 Maybe   \n",
       "1             No            No                      No                    No   \n",
       "2            Yes           Yes                     Yes                   Yes   \n",
       "3   Some of them            No                   Maybe                 Maybe   \n",
       "4   Some of them           Yes                     Yes                   Yes   \n",
       "5            Yes           Yes                      No                 Maybe   \n",
       "6   Some of them            No                      No                    No   \n",
       "7             No            No                      No                    No   \n",
       "8            Yes           Yes                      No                 Maybe   \n",
       "9            Yes           Yes                   Maybe                 Maybe   \n",
       "10  Some of them           Yes                      No                    No   \n",
       "11           Yes           Yes                     Yes                   Yes   \n",
       "12           Yes           Yes                   Maybe                 Maybe   \n",
       "13           Yes           Yes                      No                    No   \n",
       "14  Some of them  Some of them                   Maybe                   Yes   \n",
       "15           Yes  Some of them                   Maybe                 Maybe   \n",
       "16  Some of them            No                   Maybe                 Maybe   \n",
       "17  Some of them           Yes                      No                    No   \n",
       "\n",
       "   mental_vs_physical obs_consequence comments  \n",
       "0                 Yes              No        0  \n",
       "1          Don't know              No        0  \n",
       "2                  No              No        0  \n",
       "3                  No             Yes        0  \n",
       "4          Don't know              No        0  \n",
       "5          Don't know              No        0  \n",
       "6          Don't know              No        0  \n",
       "7                  No              No        0  \n",
       "8                  No              No        0  \n",
       "9                 Yes              No        0  \n",
       "10         Don't know              No        0  \n",
       "11         Don't know              No        0  \n",
       "12                 No             Yes        0  \n",
       "13         Don't know              No        1  \n",
       "14                Yes              No        0  \n",
       "15         Don't know              No        1  \n",
       "16                 No              No        1  \n",
       "17                 No              No        0  \n",
       "\n",
       "[18 rows x 27 columns]"
      ]
     },
     "execution_count": 345,
     "metadata": {},
     "output_type": "execute_result"
    }
   ],
   "source": [
    "df.loc[df.self_employed.isnull(), :]"
   ]
  },
  {
   "cell_type": "markdown",
   "metadata": {},
   "source": [
    "We'll make an assumption here that more than 6 employees means they're not self-employed. Of course, it's possible that these individuals are the employers, but we'll maintain the assumption. \n",
    "\n",
    "It so happens that the majority of these observations can talk to some of their supervisors about their mental health, so that verifies they are not self-employed as well. "
   ]
  },
  {
   "cell_type": "code",
   "execution_count": 346,
   "metadata": {
    "collapsed": false
   },
   "outputs": [],
   "source": [
    "df.loc[(df.self_employed.isnull()) & (df.no_employees!='1-5'), 'self_employed'] = 'No'"
   ]
  },
  {
   "cell_type": "markdown",
   "metadata": {},
   "source": [
    "Now we'll say that anyone with 1-5 employees in their company who can talk to their coworkers about their mental health is not self-employed, because that indicates they have coworkers to begin with, and thus are not self-employed (since we're maintaining the assumption above.\n",
    "\n",
    "We'll indicate the remaining observations as self-employed. "
   ]
  },
  {
   "cell_type": "code",
   "execution_count": 347,
   "metadata": {
    "collapsed": false
   },
   "outputs": [],
   "source": [
    "df.loc[(df.self_employed.isnull()) & (df.coworkers !='No') , 'self_employed'] = 'No'\n",
    "df.loc[(df.self_employed.isnull()) & (df.coworkers =='No') , 'self_employed'] = 'Yes'"
   ]
  },
  {
   "cell_type": "code",
   "execution_count": 348,
   "metadata": {
    "collapsed": false
   },
   "outputs": [
    {
     "data": {
      "text/plain": [
       "0"
      ]
     },
     "execution_count": 348,
     "metadata": {},
     "output_type": "execute_result"
    }
   ],
   "source": [
    "np.sum(df.self_employed.isnull())"
   ]
  },
  {
   "cell_type": "markdown",
   "metadata": {},
   "source": [
    "The above code confirms that we've dealt with the NA values in this column. "
   ]
  },
  {
   "cell_type": "markdown",
   "metadata": {},
   "source": [
    "### 1.8 - State\n",
    "\n",
    "We will drop this column. There are far too many missing values due to the fact that not everyone who took this survey lives in the United States, so it serves no purpose. This means we will have 27 columns. "
   ]
  },
  {
   "cell_type": "code",
   "execution_count": 349,
   "metadata": {
    "collapsed": false
   },
   "outputs": [
    {
     "name": "stdout",
     "output_type": "stream",
     "text": [
      "(1252, 26)\n"
     ]
    }
   ],
   "source": [
    "df.drop('state', axis = 'columns', inplace=True)\n",
    "print(df.shape)"
   ]
  },
  {
   "cell_type": "markdown",
   "metadata": {},
   "source": [
    "### 1.9 - Remaining Variables\n",
    "\n",
    "We no longer have NA values to deal with. All that's left is to check the unique values of every other variable to confirm that there are no unusual classes. "
   ]
  },
  {
   "cell_type": "code",
   "execution_count": 350,
   "metadata": {
    "collapsed": false,
    "scrolled": true
   },
   "outputs": [
    {
     "data": {
      "text/plain": [
       "Timestamp                    0\n",
       "Age                          0\n",
       "Gender                       0\n",
       "Country                      0\n",
       "self_employed                0\n",
       "family_history               0\n",
       "treatment                    0\n",
       "work_interfere               0\n",
       "no_employees                 0\n",
       "remote_work                  0\n",
       "tech_company                 0\n",
       "benefits                     0\n",
       "care_options                 0\n",
       "wellness_program             0\n",
       "seek_help                    0\n",
       "anonymity                    0\n",
       "leave                        0\n",
       "mental_health_consequence    0\n",
       "phys_health_consequence      0\n",
       "coworkers                    0\n",
       "supervisor                   0\n",
       "mental_health_interview      0\n",
       "phys_health_interview        0\n",
       "mental_vs_physical           0\n",
       "obs_consequence              0\n",
       "comments                     0\n",
       "dtype: int64"
      ]
     },
     "execution_count": 350,
     "metadata": {},
     "output_type": "execute_result"
    }
   ],
   "source": [
    "# Confirm no other missing values\n",
    "np.sum(df.isnull())"
   ]
  },
  {
   "cell_type": "code",
   "execution_count": 351,
   "metadata": {
    "collapsed": false
   },
   "outputs": [
    {
     "name": "stdout",
     "output_type": "stream",
     "text": [
      "['family_history' 'treatment' 'no_employees' 'remote_work' 'tech_company'\n",
      " 'benefits' 'care_options' 'wellness_program' 'seek_help' 'anonymity'\n",
      " 'leave' 'mental_health_consequence' 'phys_health_consequence' 'coworkers'\n",
      " 'supervisor' 'mental_health_interview' 'phys_health_interview'\n",
      " 'mental_vs_physical' 'obs_consequence']\n"
     ]
    }
   ],
   "source": [
    "relevant_columns = df.columns.values\n",
    "for i in ['Timestamp', 'Age', 'Gender', 'Country', 'self_employed', 'work_interfere', 'Hour', 'comments']:\n",
    "    relevant_columns = relevant_columns[relevant_columns!=i]\n",
    "print(relevant_columns)"
   ]
  },
  {
   "cell_type": "code",
   "execution_count": 352,
   "metadata": {
    "collapsed": false
   },
   "outputs": [
    {
     "name": "stdout",
     "output_type": "stream",
     "text": [
      "['No' 'Yes']\n",
      "['Yes' 'No']\n",
      "['6-25' 'More than 1000' '26-100' '100-500' '1-5' '500-1000']\n",
      "['No' 'Yes']\n",
      "['Yes' 'No']\n",
      "['Yes' \"Don't know\" 'No']\n",
      "['Not sure' 'No' 'Yes']\n",
      "['No' \"Don't know\" 'Yes']\n",
      "['Yes' \"Don't know\" 'No']\n",
      "['Yes' \"Don't know\" 'No']\n",
      "['Somewhat easy' \"Don't know\" 'Somewhat difficult' 'Very difficult'\n",
      " 'Very easy']\n",
      "['No' 'Maybe' 'Yes']\n",
      "['No' 'Yes' 'Maybe']\n",
      "['Some of them' 'No' 'Yes']\n",
      "['Yes' 'No' 'Some of them']\n",
      "['No' 'Yes' 'Maybe']\n",
      "['Maybe' 'No' 'Yes']\n",
      "['Yes' \"Don't know\" 'No']\n",
      "['No' 'Yes']\n"
     ]
    }
   ],
   "source": [
    "for column in relevant_columns:\n",
    "    print(df[column].unique())"
   ]
  },
  {
   "cell_type": "markdown",
   "metadata": {},
   "source": [
    "Everything looks clean. It's time to conduct some visualizations to see if we can draw any additional insights. "
   ]
  },
  {
   "cell_type": "markdown",
   "metadata": {},
   "source": [
    "## Step 2. Data Visualization\n",
    "\n",
    "Since we are fundamentally exploring whether or not individuals sought treatment, we ought to check these frequencies. "
   ]
  },
  {
   "cell_type": "code",
   "execution_count": 353,
   "metadata": {
    "collapsed": false
   },
   "outputs": [
    {
     "data": {
      "image/png": "[encoded data removed]",
      "text/plain": [
       "<matplotlib.figure.Figure at 0x12004e250>"
      ]
     },
     "metadata": {},
     "output_type": "display_data"
    }
   ],
   "source": [
    "sns.countplot(df.treatment)\n",
    "plt.title('Frequency Plot of Treatment')\n",
    "plt.xlabel('Sought Treatment')\n",
    "plt.show()"
   ]
  },
  {
   "cell_type": "markdown",
   "metadata": {},
   "source": [
    "Whether or not individuals sought treatment is about equal in this dataset. "
   ]
  },
  {
   "cell_type": "markdown",
   "metadata": {},
   "source": [
    "### 2.2 - Age"
   ]
  },
  {
   "cell_type": "code",
   "execution_count": 354,
   "metadata": {
    "collapsed": false
   },
   "outputs": [
    {
     "data": {
      "image/png": "[encoded data removed]",
      "text/plain": [
       "<matplotlib.figure.Figure at 0x11f861790>"
      ]
     },
     "metadata": {},
     "output_type": "display_data"
    }
   ],
   "source": [
    "sns.violinplot(x = 'Age', y = 'treatment', data = df)\n",
    "plt.title('Density Plot of Age', fontsize = 20)\n",
    "plt.ylabel('Density', fontsize = 16)\n",
    "plt.xlabel('Age', fontsize = 16)\n",
    "plt.show()\n"
   ]
  },
  {
   "cell_type": "markdown",
   "metadata": {},
   "source": [
    "They appear to have similar distributions. "
   ]
  },
  {
   "cell_type": "markdown",
   "metadata": {},
   "source": [
    "### 2.3 - Comments, Gender, Family History, Remote Work"
   ]
  },
  {
   "cell_type": "markdown",
   "metadata": {},
   "source": [
    "For ease of readability, we'll include all these variables on one plot. "
   ]
  },
  {
   "cell_type": "code",
   "execution_count": 355,
   "metadata": {
    "collapsed": false
   },
   "outputs": [
    {
     "data": {
      "image/png": "[encoded data removed]",
      "text/plain": [
       "<matplotlib.figure.Figure at 0x11ffd9110>"
      ]
     },
     "metadata": {},
     "output_type": "display_data"
    }
   ],
   "source": [
    "plt.subplot(2,2,1)\n",
    "sns.countplot(df.comments, hue = df.treatment)\n",
    "plt.title('Treatment vs Comments')\n",
    "plt.xlabel('Comments')\n",
    "plt.ylabel('Frequency')\n",
    "plt.subplot(2,2,2)\n",
    "sns.countplot(df.Gender, hue = df.treatment)\n",
    "plt.title('Treatment vs Gender')\n",
    "plt.ylabel('Frequency')\n",
    "plt.subplot(2,2,3)\n",
    "sns.countplot(df.family_history, hue = df.treatment)\n",
    "plt.title('Treatment vs Family History')\n",
    "plt.ylabel('Frequency')\n",
    "plt.xlabel('Family History')\n",
    "plt.subplot(2,2,4)\n",
    "sns.countplot(df.remote_work, hue = df.treatment)\n",
    "plt.title('Treatment vs Working Remotely')\n",
    "plt.ylabel('Frequency')\n",
    "plt.xlabel('Remote Work')\n",
    "plt.subplots_adjust(hspace=.5, wspace = .5)\n",
    "plt.show()\n"
   ]
  },
  {
   "cell_type": "markdown",
   "metadata": {},
   "source": [
    "We observe that there are relationships between each variable and treatment with the exception of remote work. This is good visual evidence that remote work is an unimportant variable, so we will remove it. \n",
    "\n",
    "Those with a family history are more likely to seek treatment, as are females and transgenders. Males make up the vast majority of respondents, yet mostly do not seek treatment. "
   ]
  },
  {
   "cell_type": "code",
   "execution_count": 356,
   "metadata": {
    "collapsed": true
   },
   "outputs": [],
   "source": [
    "# Removing remote work\n",
    "df.drop('remote_work', axis = 1, inplace=True)"
   ]
  },
  {
   "cell_type": "markdown",
   "metadata": {},
   "source": [
    "### 2.4 - mental_health_consequence, phys_health_consequence"
   ]
  },
  {
   "cell_type": "code",
   "execution_count": 357,
   "metadata": {
    "collapsed": false
   },
   "outputs": [
    {
     "data": {
      "image/png": "[encoded data removed]",
      "text/plain": [
       "<matplotlib.figure.Figure at 0x11e924b50>"
      ]
     },
     "metadata": {},
     "output_type": "display_data"
    }
   ],
   "source": [
    "plt.subplot(1,2,1)\n",
    "sns.countplot(df.mental_health_consequence, hue = df.treatment)\n",
    "plt.title('Consequences for Poor Mental Health')\n",
    "plt.xlabel('Respondents Belief Of Consequences')\n",
    "plt.ylabel('Frequency')\n",
    "plt.subplot(1,2,2)\n",
    "sns.countplot(df.phys_health_consequence, hue = df.treatment)\n",
    "plt.title('Consequences for Poor Physical Health')\n",
    "plt.ylabel('Frequency')\n",
    "plt.xlabel('Respondents Belief Of Consequences')\n",
    "plt.subplots_adjust(wspace = 1.5)\n",
    "plt.show()"
   ]
  },
  {
   "cell_type": "markdown",
   "metadata": {},
   "source": [
    "These plots demonstrate that one's perception of one's workplace does not drastically affect their inclination to seek treatment, but there still is some relationship. "
   ]
  },
  {
   "cell_type": "markdown",
   "metadata": {},
   "source": [
    "### 2.5: care_options"
   ]
  },
  {
   "cell_type": "code",
   "execution_count": 358,
   "metadata": {
    "collapsed": false
   },
   "outputs": [
    {
     "data": {
      "image/png": "[encoded data removed]",
      "text/plain": [
       "<matplotlib.figure.Figure at 0x1107dc810>"
      ]
     },
     "metadata": {},
     "output_type": "display_data"
    }
   ],
   "source": [
    "sns.countplot(df.care_options, hue = df.treatment)\n",
    "plt.title('Treatment vs. Care Options')\n",
    "plt.ylabel('Frequency')\n",
    "plt.xlabel('Care Options of Companies')\n",
    "plt.show()"
   ]
  },
  {
   "cell_type": "markdown",
   "metadata": {},
   "source": [
    "Employees whose companies provide mental health care options seek treatment far more, on average. Surprisingly, employees whose companies don't provide care options seek treatment more on average than employees of companies who don't provide care options at all. "
   ]
  },
  {
   "cell_type": "markdown",
   "metadata": {},
   "source": [
    "## Step 3. Feature Engineering"
   ]
  },
  {
   "cell_type": "markdown",
   "metadata": {},
   "source": [
    "### 3.1 - \"MoreLikely\" "
   ]
  },
  {
   "cell_type": "markdown",
   "metadata": {},
   "source": [
    "An individual who has a family history of mental health issues and whose mental health problems affect their work is more likely to seek treatment. So we will code them as \"More Likely\" to seek treatment. "
   ]
  },
  {
   "cell_type": "code",
   "execution_count": 359,
   "metadata": {
    "collapsed": false
   },
   "outputs": [
    {
     "name": "stdout",
     "output_type": "stream",
     "text": [
      "[ 0.  1.]\n"
     ]
    }
   ],
   "source": [
    "df.loc[(df['family_history']=='Yes') & (df['work_interfere'].isin(['Often','Rarely','Sometimes'])),'MoreLikely'] = 1\n",
    "df.loc[df.MoreLikely != 1, 'MoreLikely'] = 0\n",
    "# Confirm that it's coded properly. \n",
    "print(df.MoreLikely.unique())"
   ]
  },
  {
   "cell_type": "code",
   "execution_count": 360,
   "metadata": {
    "collapsed": false
   },
   "outputs": [
    {
     "data": {
      "image/png": "[encoded data removed]",
      "text/plain": [
       "<matplotlib.figure.Figure at 0x120457c90>"
      ]
     },
     "metadata": {},
     "output_type": "display_data"
    }
   ],
   "source": [
    "sns.countplot(df.MoreLikely, hue = df.treatment)\n",
    "plt.title('Confirmation That Higher-Risk Individuals Receive More Treatment')\n",
    "plt.xlabel('Individuals More Likely to Seek Treatment')\n",
    "plt.ylabel('Frequency')\n",
    "plt.xticks(np.arange(2), ('No', 'Yes'))\n",
    "plt.show()"
   ]
  },
  {
   "cell_type": "markdown",
   "metadata": {},
   "source": [
    "The above plot confirms that those who are coded as 1 in the MoreLikely variable are in fact more likely to seek treatment. "
   ]
  },
  {
   "cell_type": "markdown",
   "metadata": {},
   "source": [
    "### 3.2 - \"ProblematicWork\"\n",
    "An individual's workplace can exacerbate one's mental health issues, especially if they feel like they can't seek treatment for fear of how the stigma could affect their employment. In other words, one's workplace can be problematic in affecting whether they seek treament. \n",
    "\n",
    "We will create a new variable, ProblematicWork based on four existing variables: leave, mental_health_consequences, obs_consequence, and benefits. If the response to these questions is negative in 2 or more, we will mark ProblematicWork as 1. \n",
    "\n",
    "The negative responses are as follows: \n",
    "\n",
    "leave: Very difficult\n",
    "\n",
    "mental_health_consequence: Yes\n",
    "\n",
    "obs_consequence: Yes\n",
    "\n",
    "benefits: No"
   ]
  },
  {
   "cell_type": "code",
   "execution_count": 361,
   "metadata": {
    "collapsed": false
   },
   "outputs": [],
   "source": [
    "# Initialize the column \n",
    "ProblematicWork = np.repeat(a=np.nan, repeats=len(df))\n",
    "\n",
    "# Initialize the loop\n",
    "for i in range(len(df)):\n",
    "    # Make a counter to determine number of variables are negative\n",
    "    counter = 0\n",
    "    if (df.leave.values[i]=='Very difficult'):\n",
    "        counter = counter+1\n",
    "    if (df.mental_health_consequence.values[i]=='Yes'):\n",
    "         counter = counter+1\n",
    "    if (df.obs_consequence.values[i]=='Yes'):\n",
    "        counter = counter+1\n",
    "    if (df.benefits.values[i]=='No'):\n",
    "         counter = counter+1\n",
    "    # Assign to ProblematicWork\n",
    "    ProblematicWork[i] = counter\n",
    "    \n",
    "# Now recode the variable - >=2 is 1\n",
    "ProblematicWork[ProblematicWork<2] = 0\n",
    "ProblematicWork[ProblematicWork>=2] = 1\n",
    "\n",
    "# Create the variable \n",
    "df['ProblematicWork'] = ProblematicWork"
   ]
  },
  {
   "cell_type": "code",
   "execution_count": 362,
   "metadata": {
    "collapsed": false
   },
   "outputs": [
    {
     "data": {
      "image/png": "[encoded data removed]",
      "text/plain": [
       "<matplotlib.figure.Figure at 0x11fe57150>"
      ]
     },
     "metadata": {},
     "output_type": "display_data"
    }
   ],
   "source": [
    "sns.countplot(df.ProblematicWork, hue = df.treatment)\n",
    "plt.title('Relationship Between Problematic Workplaces and Seeking Treatment')\n",
    "plt.ylabel('Frequency')\n",
    "plt.xlabel('Problematic Workplace')\n",
    "plt.xticks(np.arange(2), ('No', 'Yes'))\n",
    "plt.show()"
   ]
  },
  {
   "cell_type": "markdown",
   "metadata": {},
   "source": [
    "Those who work in a problematic workplace are more likely to seek treatment, but not substantially more likely. This may not be a great predictor, as those who don't work in a problematic workplace still seek treatment at nearly-equal rates. However, we'll include this variable anyway. "
   ]
  },
  {
   "cell_type": "markdown",
   "metadata": {},
   "source": [
    "### 3.3 - \"WorkplaceSupport\"\n",
    "\n",
    "Someone who is comfortable speaking to someone from work has some workplace support, potentially making them more likely to seek treatment. So we'll make this column based on three existing variables: coworkers, mental_vs_physical, and supervisor. If the answer is positive in two of these columns, we'll mark WorkplaceSupport as 1. \n",
    "\n",
    "The positive responses are as follows: \n",
    "\n",
    "coworkers: Some of them, Yes\n",
    "\n",
    "supervisor: Some of them, Yes\n",
    "\n",
    "mental_vs_physical: Yes"
   ]
  },
  {
   "cell_type": "code",
   "execution_count": 363,
   "metadata": {
    "collapsed": false
   },
   "outputs": [
    {
     "data": {
      "text/plain": [
       "array(['Yes', \"Don't know\", 'No'], dtype=object)"
      ]
     },
     "execution_count": 363,
     "metadata": {},
     "output_type": "execute_result"
    }
   ],
   "source": [
    "df.mental_vs_physical.unique()"
   ]
  },
  {
   "cell_type": "code",
   "execution_count": 364,
   "metadata": {
    "collapsed": false
   },
   "outputs": [],
   "source": [
    "# Initialize the column \n",
    "WorkPlaceSupport = np.repeat(a=np.nan, repeats=len(df))\n",
    "\n",
    "# Initialize the loop\n",
    "for i in range(len(df)):\n",
    "    # Make a counter to determine number of variables are negative\n",
    "    counter = 0\n",
    "    if (df.coworkers.values[i]!='No'):\n",
    "        counter = counter+1\n",
    "    if (df.supervisor.values[i]!='No'):\n",
    "         counter = counter+1\n",
    "    if (df.mental_vs_physical.values[i]=='Yes'):\n",
    "        counter = counter+1\n",
    "    # Assign to ProblematicWork\n",
    "    WorkPlaceSupport[i] = counter\n",
    "    \n",
    "# Now recode the variable - >=2 is 1\n",
    "WorkPlaceSupport[WorkPlaceSupport<=1] = 0\n",
    "WorkPlaceSupport[WorkPlaceSupport>1] = 1\n",
    "\n",
    "# Create the variable \n",
    "df['WorkPlaceSupport'] = WorkPlaceSupport"
   ]
  },
  {
   "cell_type": "code",
   "execution_count": 365,
   "metadata": {
    "collapsed": false
   },
   "outputs": [
    {
     "data": {
      "image/png": "[encoded data removed]",
      "text/plain": [
       "<matplotlib.figure.Figure at 0x1204fe110>"
      ]
     },
     "metadata": {},
     "output_type": "display_data"
    }
   ],
   "source": [
    "sns.countplot(df.WorkPlaceSupport, hue = df.treatment)\n",
    "plt.title('Relationship Between Supportive Workplaces and Seeking Treatment')\n",
    "plt.xlabel('Supportive Workplace')\n",
    "plt.ylabel('Frequency')\n",
    "plt.xticks(np.arange(2), ('No', 'Yes'))\n",
    "plt.show()"
   ]
  },
  {
   "cell_type": "markdown",
   "metadata": {},
   "source": [
    "It appears as though having support at one's work place does not influence seeking treatment dramatically. Therefore, it does not make sense to include this variable. We will drop it. "
   ]
  },
  {
   "cell_type": "code",
   "execution_count": 366,
   "metadata": {
    "collapsed": true
   },
   "outputs": [],
   "source": [
    "df.drop('WorkPlaceSupport', axis = 1, inplace = True)"
   ]
  },
  {
   "cell_type": "markdown",
   "metadata": {},
   "source": [
    "### 2.4 - \"Hour\" "
   ]
  },
  {
   "cell_type": "markdown",
   "metadata": {},
   "source": [
    "We'll extract the hour of the response. This could potentially be useful for cross-validation. "
   ]
  },
  {
   "cell_type": "code",
   "execution_count": 367,
   "metadata": {
    "collapsed": false
   },
   "outputs": [
    {
     "name": "stdout",
     "output_type": "stream",
     "text": [
      "[ 0  1  2  3  4  5  6  7  8  9 10 11 12 13 14 15 16 17 18 19 20 21 22 23]\n"
     ]
    }
   ],
   "source": [
    "df.Timestamp = pd.to_datetime(df.Timestamp,infer_datetime_format=True)\n",
    "df['Hour'] = df.Timestamp.dt.hour\n",
    "print(np.sort(df.Hour.unique()))"
   ]
  },
  {
   "cell_type": "code",
   "execution_count": 368,
   "metadata": {
    "collapsed": false
   },
   "outputs": [
    {
     "data": {
      "image/png": "[encoded data removed]",
      "text/plain": [
       "<matplotlib.figure.Figure at 0x120417410>"
      ]
     },
     "metadata": {},
     "output_type": "display_data"
    }
   ],
   "source": [
    "sns.countplot(df.Hour, hue = df.treatment)\n",
    "plt.xlabel('Hour of Day')\n",
    "plt.ylabel('Frequency')\n",
    "plt.title('Hour Survey Taken vs Treatment')\n",
    "plt.show()"
   ]
  },
  {
   "cell_type": "markdown",
   "metadata": {},
   "source": [
    "We can observe that individuals who are up in the very early hours of the morning (midnight - 3 am) typically seek treatment at higher frequencies. There may be a relationship here. "
   ]
  },
  {
   "cell_type": "markdown",
   "metadata": {},
   "source": [
    "# Part Three: Data Modeling"
   ]
  },
  {
   "cell_type": "markdown",
   "metadata": {},
   "source": [
    "### Step 1. Preprocessing"
   ]
  },
  {
   "cell_type": "markdown",
   "metadata": {},
   "source": [
    "First let's observe the columns again to confirm that our dataframe only contains columns we want. "
   ]
  },
  {
   "cell_type": "code",
   "execution_count": 38,
   "metadata": {
    "collapsed": false
   },
   "outputs": [
    {
     "data": {
      "text/plain": [
       "array(['Timestamp', 'Age', 'Gender', 'Country', 'self_employed',\n",
       "       'family_history', 'treatment', 'work_interfere', 'no_employees',\n",
       "       'tech_company', 'benefits', 'care_options', 'wellness_program',\n",
       "       'seek_help', 'anonymity', 'leave', 'mental_health_consequence',\n",
       "       'phys_health_consequence', 'coworkers', 'supervisor',\n",
       "       'mental_health_interview', 'phys_health_interview',\n",
       "       'mental_vs_physical', 'obs_consequence', 'comments', 'Hour',\n",
       "       'MoreLikely', 'ProblematicWork'], dtype=object)"
      ]
     },
     "execution_count": 38,
     "metadata": {},
     "output_type": "execute_result"
    }
   ],
   "source": [
    "df.columns.values"
   ]
  },
  {
   "cell_type": "markdown",
   "metadata": {},
   "source": [
    "Let's remove Timestamp. "
   ]
  },
  {
   "cell_type": "code",
   "execution_count": 39,
   "metadata": {
    "collapsed": true
   },
   "outputs": [],
   "source": [
    "df.drop('Timestamp', axis = 1, inplace = True)"
   ]
  },
  {
   "cell_type": "markdown",
   "metadata": {},
   "source": [
    "Before proceeding with our modeling, we need to preprocess our data and load all the libraries and functions we'll need. "
   ]
  },
  {
   "cell_type": "code",
   "execution_count": 176,
   "metadata": {
    "collapsed": false
   },
   "outputs": [],
   "source": [
    "import sklearn\n",
    "# Import models we'll employ \n",
    "from sklearn.linear_model import LogisticRegression\n",
    "from sklearn.ensemble import RandomForestClassifier, GradientBoostingClassifier\n",
    "from sklearn.neighbors import KNeighborsClassifier\n",
    "from sklearn.discriminant_analysis import LinearDiscriminantAnalysis\n",
    "# Function for splitting training and test set\n",
    "from sklearn.model_selection import train_test_split\n",
    "# Function for creating model pipelines\n",
    "from sklearn.pipeline import make_pipeline\n",
    "# For standardization\n",
    "from sklearn.preprocessing import StandardScaler\n",
    "# Helper for cross-validation\n",
    "from sklearn.model_selection import GridSearchCV\n",
    "# Classification metrics (added later)\n",
    "from sklearn.metrics import roc_curve, auc, confusion_matrix, accuracy_score, recall_score, precision_score"
   ]
  },
  {
   "cell_type": "markdown",
   "metadata": {},
   "source": [
    "SKLearn requires a sparse matrix format for our data, so we need to convert our categorical variables into dummy variables. However, there are a few variables that just have two classes, so we can convert them to binary. Let's figure out which those are. "
   ]
  },
  {
   "cell_type": "code",
   "execution_count": 41,
   "metadata": {
    "collapsed": false
   },
   "outputs": [
    {
     "name": "stdout",
     "output_type": "stream",
     "text": [
      "self_employed\n",
      "['No' 'Yes']\n",
      "family_history\n",
      "['No' 'Yes']\n",
      "treatment\n",
      "['Yes' 'No']\n",
      "tech_company\n",
      "['Yes' 'No']\n",
      "obs_consequence\n",
      "['No' 'Yes']\n"
     ]
    }
   ],
   "source": [
    "for col in df.dtypes[df.dtypes==np.object].index.values:\n",
    "    if(len(df[col].unique())<=2):\n",
    "        print(col)\n",
    "        print(df[col].unique())"
   ]
  },
  {
   "cell_type": "code",
   "execution_count": 42,
   "metadata": {
    "collapsed": false
   },
   "outputs": [],
   "source": [
    "for col in ['self_employed', 'family_history', 'treatment', 'tech_company', 'obs_consequence']:\n",
    "    df[col].replace(to_replace = ['No', 'Yes'], value = [0, 1], inplace = True)"
   ]
  },
  {
   "cell_type": "markdown",
   "metadata": {},
   "source": [
    "Finally, let's take care of the rest of the categorical variables. "
   ]
  },
  {
   "cell_type": "code",
   "execution_count": 44,
   "metadata": {
    "collapsed": false
   },
   "outputs": [
    {
     "data": {
      "text/html": [
       "<div>\n",
       "<table border=\"1\" class=\"dataframe\">\n",
       "  <thead>\n",
       "    <tr style=\"text-align: right;\">\n",
       "      <th></th>\n",
       "      <th>Age</th>\n",
       "      <th>self_employed</th>\n",
       "      <th>family_history</th>\n",
       "      <th>treatment</th>\n",
       "      <th>tech_company</th>\n",
       "      <th>obs_consequence</th>\n",
       "      <th>comments</th>\n",
       "      <th>Hour</th>\n",
       "      <th>MoreLikely</th>\n",
       "      <th>ProblematicWork</th>\n",
       "      <th>...</th>\n",
       "      <th>coworkers_Some of them</th>\n",
       "      <th>coworkers_Yes</th>\n",
       "      <th>supervisor_Some of them</th>\n",
       "      <th>supervisor_Yes</th>\n",
       "      <th>mental_health_interview_No</th>\n",
       "      <th>mental_health_interview_Yes</th>\n",
       "      <th>phys_health_interview_No</th>\n",
       "      <th>phys_health_interview_Yes</th>\n",
       "      <th>mental_vs_physical_No</th>\n",
       "      <th>mental_vs_physical_Yes</th>\n",
       "    </tr>\n",
       "  </thead>\n",
       "  <tbody>\n",
       "    <tr>\n",
       "      <th>0</th>\n",
       "      <td>37</td>\n",
       "      <td>0</td>\n",
       "      <td>0</td>\n",
       "      <td>1</td>\n",
       "      <td>1</td>\n",
       "      <td>0</td>\n",
       "      <td>0</td>\n",
       "      <td>11</td>\n",
       "      <td>0.0</td>\n",
       "      <td>0.0</td>\n",
       "      <td>...</td>\n",
       "      <td>1</td>\n",
       "      <td>0</td>\n",
       "      <td>0</td>\n",
       "      <td>1</td>\n",
       "      <td>1</td>\n",
       "      <td>0</td>\n",
       "      <td>0</td>\n",
       "      <td>0</td>\n",
       "      <td>0</td>\n",
       "      <td>1</td>\n",
       "    </tr>\n",
       "    <tr>\n",
       "      <th>1</th>\n",
       "      <td>44</td>\n",
       "      <td>0</td>\n",
       "      <td>0</td>\n",
       "      <td>0</td>\n",
       "      <td>0</td>\n",
       "      <td>0</td>\n",
       "      <td>0</td>\n",
       "      <td>11</td>\n",
       "      <td>0.0</td>\n",
       "      <td>0.0</td>\n",
       "      <td>...</td>\n",
       "      <td>0</td>\n",
       "      <td>0</td>\n",
       "      <td>0</td>\n",
       "      <td>0</td>\n",
       "      <td>1</td>\n",
       "      <td>0</td>\n",
       "      <td>1</td>\n",
       "      <td>0</td>\n",
       "      <td>0</td>\n",
       "      <td>0</td>\n",
       "    </tr>\n",
       "    <tr>\n",
       "      <th>2</th>\n",
       "      <td>32</td>\n",
       "      <td>0</td>\n",
       "      <td>0</td>\n",
       "      <td>0</td>\n",
       "      <td>1</td>\n",
       "      <td>0</td>\n",
       "      <td>0</td>\n",
       "      <td>11</td>\n",
       "      <td>0.0</td>\n",
       "      <td>0.0</td>\n",
       "      <td>...</td>\n",
       "      <td>0</td>\n",
       "      <td>1</td>\n",
       "      <td>0</td>\n",
       "      <td>1</td>\n",
       "      <td>0</td>\n",
       "      <td>1</td>\n",
       "      <td>0</td>\n",
       "      <td>1</td>\n",
       "      <td>1</td>\n",
       "      <td>0</td>\n",
       "    </tr>\n",
       "    <tr>\n",
       "      <th>3</th>\n",
       "      <td>31</td>\n",
       "      <td>0</td>\n",
       "      <td>1</td>\n",
       "      <td>1</td>\n",
       "      <td>1</td>\n",
       "      <td>1</td>\n",
       "      <td>0</td>\n",
       "      <td>11</td>\n",
       "      <td>1.0</td>\n",
       "      <td>1.0</td>\n",
       "      <td>...</td>\n",
       "      <td>1</td>\n",
       "      <td>0</td>\n",
       "      <td>0</td>\n",
       "      <td>0</td>\n",
       "      <td>0</td>\n",
       "      <td>0</td>\n",
       "      <td>0</td>\n",
       "      <td>0</td>\n",
       "      <td>1</td>\n",
       "      <td>0</td>\n",
       "    </tr>\n",
       "    <tr>\n",
       "      <th>4</th>\n",
       "      <td>31</td>\n",
       "      <td>0</td>\n",
       "      <td>0</td>\n",
       "      <td>0</td>\n",
       "      <td>1</td>\n",
       "      <td>0</td>\n",
       "      <td>0</td>\n",
       "      <td>11</td>\n",
       "      <td>0.0</td>\n",
       "      <td>0.0</td>\n",
       "      <td>...</td>\n",
       "      <td>1</td>\n",
       "      <td>0</td>\n",
       "      <td>0</td>\n",
       "      <td>1</td>\n",
       "      <td>0</td>\n",
       "      <td>1</td>\n",
       "      <td>0</td>\n",
       "      <td>1</td>\n",
       "      <td>0</td>\n",
       "      <td>0</td>\n",
       "    </tr>\n",
       "  </tbody>\n",
       "</table>\n",
       "<p>5 rows × 51 columns</p>\n",
       "</div>"
      ],
      "text/plain": [
       "   Age  self_employed  family_history  treatment  tech_company  \\\n",
       "0   37              0               0          1             1   \n",
       "1   44              0               0          0             0   \n",
       "2   32              0               0          0             1   \n",
       "3   31              0               1          1             1   \n",
       "4   31              0               0          0             1   \n",
       "\n",
       "   obs_consequence  comments  Hour  MoreLikely  ProblematicWork  \\\n",
       "0                0         0    11         0.0              0.0   \n",
       "1                0         0    11         0.0              0.0   \n",
       "2                0         0    11         0.0              0.0   \n",
       "3                1         0    11         1.0              1.0   \n",
       "4                0         0    11         0.0              0.0   \n",
       "\n",
       "            ...            coworkers_Some of them  coworkers_Yes  \\\n",
       "0           ...                                 1              0   \n",
       "1           ...                                 0              0   \n",
       "2           ...                                 0              1   \n",
       "3           ...                                 1              0   \n",
       "4           ...                                 1              0   \n",
       "\n",
       "   supervisor_Some of them  supervisor_Yes  mental_health_interview_No  \\\n",
       "0                        0               1                           1   \n",
       "1                        0               0                           1   \n",
       "2                        0               1                           0   \n",
       "3                        0               0                           0   \n",
       "4                        0               1                           0   \n",
       "\n",
       "   mental_health_interview_Yes  phys_health_interview_No  \\\n",
       "0                            0                         0   \n",
       "1                            0                         1   \n",
       "2                            1                         0   \n",
       "3                            0                         0   \n",
       "4                            1                         0   \n",
       "\n",
       "   phys_health_interview_Yes  mental_vs_physical_No  mental_vs_physical_Yes  \n",
       "0                          0                      0                       1  \n",
       "1                          0                      0                       0  \n",
       "2                          1                      1                       0  \n",
       "3                          0                      1                       0  \n",
       "4                          1                      0                       0  \n",
       "\n",
       "[5 rows x 51 columns]"
      ]
     },
     "execution_count": 44,
     "metadata": {},
     "output_type": "execute_result"
    }
   ],
   "source": [
    "df2 = pd.get_dummies(df, df.dtypes[df.dtypes==np.object].index.values, drop_first=True)\n",
    "df2.head()"
   ]
  },
  {
   "cell_type": "markdown",
   "metadata": {},
   "source": [
    "Now we can split our data into a train set and test set - we'll hold out 20% of the data to test. We'll also stratify to maintain the same proportion of yes and no in our train and test datasets. "
   ]
  },
  {
   "cell_type": "code",
   "execution_count": 45,
   "metadata": {
    "collapsed": false
   },
   "outputs": [],
   "source": [
    "y = df2.treatment\n",
    "X = df2.drop('treatment', axis = 1)"
   ]
  },
  {
   "cell_type": "code",
   "execution_count": 46,
   "metadata": {
    "collapsed": false
   },
   "outputs": [],
   "source": [
    "X_train, X_test, y_train, y_test = train_test_split(X, y, \n",
    "                                                    test_size = 0.2, random_state = 1234, \n",
    "                                                    stratify = df2.treatment)"
   ]
  },
  {
   "cell_type": "markdown",
   "metadata": {},
   "source": [
    "## Step 2. Building Model Pipelines\n",
    "\n",
    "We'll create a dictionary which contains the preprocessing pipelines for our models. "
   ]
  },
  {
   "cell_type": "code",
   "execution_count": 251,
   "metadata": {
    "collapsed": false
   },
   "outputs": [],
   "source": [
    "pipelines = {\n",
    "    'l1': make_pipeline(StandardScaler(), LogisticRegression(penalty='l1', random_state=123)),\n",
    "    'l2': make_pipeline(StandardScaler(), LogisticRegression(random_state=123)),\n",
    "    'rf': make_pipeline(StandardScaler(), RandomForestClassifier(random_state=123)),\n",
    "    'gb': make_pipeline(StandardScaler(), GradientBoostingClassifier(random_state=123)),\n",
    "    'knn': make_pipeline(StandardScaler(), KNeighborsClassifier()),\n",
    "    'lda': LinearDiscriminantAnalysis() # Wasn't working before with StandardScaler\n",
    "}"
   ]
  },
  {
   "cell_type": "markdown",
   "metadata": {
    "collapsed": true
   },
   "source": [
    "### Step 3. Declare Hyperparameters to Tune"
   ]
  },
  {
   "cell_type": "markdown",
   "metadata": {},
   "source": [
    "We'll make use of the sklearn's grid search cross validation to find the optimal hyperparameters. We'll declare them in dictionaries below. \n",
    "\n",
    "** Logistic Regression **"
   ]
  },
  {
   "cell_type": "code",
   "execution_count": 132,
   "metadata": {
    "collapsed": true
   },
   "outputs": [],
   "source": [
    "l1_hyperparams = {\n",
    "    'logisticregression__C': np.linspace(1e-3, 1e3, 10)\n",
    "}\n",
    "l2_hyperparams = {\n",
    "    'logisticregression__C': np.linspace(1e-3, 1e3, 10)\n",
    "}"
   ]
  },
  {
   "cell_type": "markdown",
   "metadata": {},
   "source": [
    "**Random Forest**"
   ]
  },
  {
   "cell_type": "code",
   "execution_count": 133,
   "metadata": {
    "collapsed": true
   },
   "outputs": [],
   "source": [
    "rf_hyperparams = {\n",
    "    'randomforestclassifier__n_estimators': [100, 200],\n",
    "    'randomforestclassifier__max_features': ['auto', 'sqrt', .33]\n",
    "}"
   ]
  },
  {
   "cell_type": "markdown",
   "metadata": {},
   "source": [
    "**Boosted Tree**"
   ]
  },
  {
   "cell_type": "code",
   "execution_count": 134,
   "metadata": {
    "collapsed": true
   },
   "outputs": [],
   "source": [
    "gb_hyperparams = {\n",
    "    'gradientboostingclassifier__n_estimators': [100, 200],\n",
    "    'gradientboostingclassifier__learning_rate': [.05, .1, .2], \n",
    "    'gradientboostingclassifier__max_depth': [1, 3, 5]\n",
    "}"
   ]
  },
  {
   "cell_type": "markdown",
   "metadata": {},
   "source": [
    "**KNN**"
   ]
  },
  {
   "cell_type": "code",
   "execution_count": 135,
   "metadata": {
    "collapsed": false
   },
   "outputs": [],
   "source": [
    "knn_hyperparams = {\n",
    "    'kneighborsclassifier__n_neighbors': np.arange(1,50),\n",
    "    'kneighborsclassifier__leaf_size': np.arange(1,40,5)\n",
    "}"
   ]
  },
  {
   "cell_type": "markdown",
   "metadata": {},
   "source": [
    "**LDA**"
   ]
  },
  {
   "cell_type": "code",
   "execution_count": 136,
   "metadata": {
    "collapsed": false
   },
   "outputs": [],
   "source": [
    "lda_hyperparams = {}"
   ]
  },
  {
   "cell_type": "markdown",
   "metadata": {},
   "source": [
    "Now we can create our hyperparameters dictionary. "
   ]
  },
  {
   "cell_type": "code",
   "execution_count": 137,
   "metadata": {
    "collapsed": true
   },
   "outputs": [],
   "source": [
    "# Create hyperparameters dictionary\n",
    "hyperparameters = {\n",
    "    'l1': l1_hyperparams,\n",
    "    'l2': l2_hyperparams,\n",
    "    'rf': rf_hyperparams,\n",
    "    'gb': gb_hyperparams,\n",
    "    'knn': knn_hyperparams,\n",
    "    'lda': lda_hyperparams\n",
    "}"
   ]
  },
  {
   "cell_type": "markdown",
   "metadata": {},
   "source": [
    "## Step 4. Fit and Tune Models with Cross-Validation"
   ]
  },
  {
   "cell_type": "code",
   "execution_count": 138,
   "metadata": {
    "collapsed": false
   },
   "outputs": [
    {
     "name": "stdout",
     "output_type": "stream",
     "text": [
      "knn has been fitted\n",
      "lda has been fitted\n",
      "rf has been fitted\n",
      "l2 has been fitted\n",
      "gb has been fitted\n",
      "l1 has been fitted\n"
     ]
    }
   ],
   "source": [
    "# Create empty dictionary called fitted_models\n",
    "fitted_models = {}\n",
    "\n",
    "# Loop through model pipelines, tuning each one and saving it to fitted_models\n",
    "for name, pipeline in pipelines.items():\n",
    "    # Create cross-validation object from pipeline and hyperparameters\n",
    "    model = GridSearchCV(pipeline, hyperparameters[name], cv = 10, n_jobs = -1)\n",
    "    \n",
    "    # Fit model on X_train, y_train\n",
    "    model.fit(X = X_train, y = y_train)\n",
    "    \n",
    "    # Store model in fitted_models[name] \n",
    "    fitted_models[name] = model\n",
    "    \n",
    "    # Print '{name} has been fitted'\n",
    "    print('{} has been fitted'.format(name))\n"
   ]
  },
  {
   "cell_type": "code",
   "execution_count": 139,
   "metadata": {
    "collapsed": false
   },
   "outputs": [
    {
     "name": "stdout",
     "output_type": "stream",
     "text": [
      "('knn', 0.73426573426573427)\n",
      "('lda', 0.83116883116883122)\n",
      "('rf', 0.8221778221778222)\n",
      "('l2', 0.82817182817182822)\n",
      "('gb', 0.83916083916083917)\n",
      "('l1', 0.82817182817182822)\n"
     ]
    }
   ],
   "source": [
    "# Display best_score_ for each fitted model\n",
    "for model in fitted_models:\n",
    "    print(model, fitted_models[model].best_score_)"
   ]
  },
  {
   "cell_type": "markdown",
   "metadata": {},
   "source": [
    "Based on the best_score attribute from each fitted model, it appears that a gradient boosted tree is our best option. Let's check the area under the ROC curve for each model and how well they predict our test data before selecting a model. "
   ]
  },
  {
   "cell_type": "markdown",
   "metadata": {},
   "source": [
    "## Step 5. Model Selection "
   ]
  },
  {
   "cell_type": "code",
   "execution_count": 290,
   "metadata": {
    "collapsed": false
   },
   "outputs": [
    {
     "name": "stdout",
     "output_type": "stream",
     "text": [
      "knn 0.823818897638\n",
      "lda 0.901447802896\n",
      "rf 0.890906781814\n",
      "l2 0.89712979426\n",
      "gb 0.904368808738\n",
      "l1 0.89712979426\n",
      "\n",
      "\n",
      "knn 0.734265734266\n",
      "lda 0.831168831169\n",
      "rf 0.822177822178\n",
      "l2 0.828171828172\n",
      "gb 0.839160839161\n",
      "l1 0.828171828172\n"
     ]
    }
   ],
   "source": [
    "# Code here\n",
    "for model in fitted_models:\n",
    "    #create class probabilities\n",
    "    pred = fitted_models[model].predict_proba(X_test)\n",
    "    pred = [Class[1] for Class in pred]\n",
    "    \n",
    "    #create fpr, tpr, thresholds\n",
    "    fpr, tpr, thresholds = roc_curve(y_test, pred)\n",
    "    \n",
    "    #calculate auc\n",
    "    mod_auc = auc(fpr, tpr)\n",
    "    print(model, mod_auc)\n",
    "    \n",
    "print('\\n')    \n",
    "for model in fitted_models: \n",
    "    print(model, fitted_models[model].best_score_)"
   ]
  },
  {
   "cell_type": "markdown",
   "metadata": {},
   "source": [
    "The gradient boosted tree had the highest area under the ROC curve, and the best_score attribute. LDA is not far behind. Let's visualize the ROC curves for both. "
   ]
  },
  {
   "cell_type": "code",
   "execution_count": 195,
   "metadata": {
    "collapsed": false
   },
   "outputs": [
    {
     "data": {
      "image/png": "[encoded data removed]",
      "text/plain": [
       "<matplotlib.figure.Figure at 0x11faad7d0>"
      ]
     },
     "metadata": {},
     "output_type": "display_data"
    }
   ],
   "source": [
    "# Predict PROBABILITIES using L1-regularized logistic regression\n",
    "pred = fitted_models['gb'].predict_proba(X_test)\n",
    "\n",
    "# Get just the prediction for the positive class (1)\n",
    "pred = [Class[1] for Class in pred]\n",
    "\n",
    "# Calculate ROC curve from y_test and pred\n",
    "fpr, tpr, thresholds = roc_curve(y_true=y_test, y_score=pred)\n",
    "\n",
    "# Predict PROBABILITIES using L1-regularized logistic regression\n",
    "pred2 = fitted_models['lda'].predict_proba(X_test)\n",
    "\n",
    "# Get just the prediction for the positive class (1)\n",
    "pred2 = [Class[1] for Class in pred2]\n",
    "\n",
    "# Calculate ROC curve from y_test and pred\n",
    "fpr2, tpr2, thresholds2 = roc_curve(y_true=y_test, y_score=pred2)\n",
    "\n",
    "# Initialize figure\n",
    "figure = plt.figure(figsize=(8,8), edgecolor='red')\n",
    "plt.title('Receiver Operating Characteristic')\n",
    "\n",
    "# Plot ROC curve\n",
    "plt.plot(fpr, tpr, label = 'GB')\n",
    "\n",
    "# Diagonal 45 degree line\n",
    "plt.plot([0,1], [0,1], 'k--')\n",
    "\n",
    "# ROC curve of LDA\n",
    "plt.plot(fpr2, tpr2, label = 'LDA', color = 'red', linestyle = '-.')\n",
    "plt.legend(loc = 'upper left')\n",
    "\n",
    "# Axes limits and labels\n",
    "plt.ylabel('True Positive Ratio')\n",
    "plt.xlabel('False Positive Ratio')\n",
    "plt.show()"
   ]
  },
  {
   "cell_type": "markdown",
   "metadata": {},
   "source": [
    "We can observe how these models predicted whether or not an individual sought treatment. "
   ]
  },
  {
   "cell_type": "code",
   "execution_count": 177,
   "metadata": {
    "collapsed": false
   },
   "outputs": [
    {
     "name": "stdout",
     "output_type": "stream",
     "text": [
      "[[ 95  29]\n",
      " [  9 118]]\n"
     ]
    }
   ],
   "source": [
    "from __future__ import print_function\n",
    "pred = fitted_models['gb'].predict(X_test)\n",
    "print(confusion_matrix(y_pred=pred, y_true=y_test))"
   ]
  },
  {
   "cell_type": "markdown",
   "metadata": {},
   "source": [
    "From the confusion matrix, we can calculate important metrics for our model - specifically, accuracy, recall, and precision. "
   ]
  },
  {
   "cell_type": "code",
   "execution_count": 186,
   "metadata": {
    "collapsed": false
   },
   "outputs": [
    {
     "name": "stdout",
     "output_type": "stream",
     "text": [
      "The model predicted 84.86% of the test data correctly.\n",
      "The model predicted 92.91% of all actual individuals who sought treatment.\n",
      "The model predicted that an individual sought treatment correctly 80.27% of the time\n"
     ]
    }
   ],
   "source": [
    "print('The model predicted ', np.round(accuracy_score(y_true=y_test, y_pred=pred)*100,2), \n",
    "      '% of the test data correctly.', sep = '')\n",
    "print('The model predicted ', np.round(recall_score(y_pred=pred, y_true=y_test)*100, 2), \n",
    "      '% of all actual individuals who sought treatment.', sep = '')\n",
    "print('The model predicted that an individual sought treatment correctly ', \n",
    "      np.round(precision_score(y_true=y_test, y_pred=pred)*100, 2), '% of the time', sep = '')"
   ]
  },
  {
   "cell_type": "markdown",
   "metadata": {},
   "source": [
    "It's important to consider what metric would be the most important for us to maximize in order to select our final model. \n",
    "\n",
    "A company would want to predict if an employee seeks mental health treatment to try and maximize productivity from an employee and to determine how work should be allocated to an employee. However, a company does not want to allocate resources improperly for an employee that does not seek treatment for mental health. Therefore, they want to try and maximize the amount of time they properly predict an individual seeking mental health treatment - the precision score. \n",
    "\n",
    "We'll run a loop to see which model maximized precision, and that will be our selected model. "
   ]
  },
  {
   "cell_type": "code",
   "execution_count": 191,
   "metadata": {
    "collapsed": false
   },
   "outputs": [
    {
     "name": "stdout",
     "output_type": "stream",
     "text": [
      "[[110  14]\n",
      " [ 62  65]]\n",
      "knn 0.822784810127\n",
      "[[ 96  28]\n",
      " [ 10 117]]\n",
      "lda 0.806896551724\n",
      "[[100  24]\n",
      " [ 23 104]]\n",
      "rf 0.8125\n",
      "[[ 99  25]\n",
      " [ 17 110]]\n",
      "l2 0.814814814815\n",
      "[[ 95  29]\n",
      " [  9 118]]\n",
      "gb 0.802721088435\n",
      "[[ 99  25]\n",
      " [ 17 110]]\n",
      "l1 0.814814814815\n"
     ]
    }
   ],
   "source": [
    "for model in fitted_models:\n",
    "    #create class predictions\n",
    "    pred = fitted_models[model].predict(X_test)\n",
    "    \n",
    "    #calculate precision\n",
    "    precision = precision_score(y_true=y_test, y_pred=pred)\n",
    "    print(confusion_matrix(y_pred=pred, y_true=y_test))\n",
    "    print(model, precision)"
   ]
  },
  {
   "cell_type": "markdown",
   "metadata": {},
   "source": [
    "The output above indicates that KNN has the highest precision, but the confusion matrix has us concerned. We can compromise by selecting the model with the second-largest precision (either logistic regression models), since it increases other metrics without much of a decrease in precision. \n",
    "\n",
    "We can visualize this improvement with the ROC curve. The plot below compares KNN with L2 Logistic Regression. "
   ]
  },
  {
   "cell_type": "code",
   "execution_count": 197,
   "metadata": {
    "collapsed": false
   },
   "outputs": [
    {
     "data": {
      "image/png": "[encoded data removed]",
      "text/plain": [
       "<matplotlib.figure.Figure at 0x11fa33ad0>"
      ]
     },
     "metadata": {},
     "output_type": "display_data"
    }
   ],
   "source": [
    "# Predict PROBABILITIES using L1-regularized logistic regression\n",
    "pred = fitted_models['l2'].predict_proba(X_test)\n",
    "\n",
    "# Get just the prediction for the positive class (1)\n",
    "pred = [Class[1] for Class in pred]\n",
    "\n",
    "# Calculate ROC curve from y_test and pred\n",
    "fpr, tpr, thresholds = roc_curve(y_true=y_test, y_score=pred)\n",
    "\n",
    "# Predict PROBABILITIES using L1-regularized logistic regression\n",
    "pred2 = fitted_models['knn'].predict_proba(X_test)\n",
    "\n",
    "# Get just the prediction for the positive class (1)\n",
    "pred2 = [Class[1] for Class in pred2]\n",
    "\n",
    "# Calculate ROC curve from y_test and pred\n",
    "fpr2, tpr2, thresholds2 = roc_curve(y_true=y_test, y_score=pred2)\n",
    "\n",
    "# Initialize figure\n",
    "figure = plt.figure(figsize=(8,8), edgecolor='red')\n",
    "plt.title('Receiver Operating Characteristic')\n",
    "\n",
    "# Plot ROC curve\n",
    "plt.plot(fpr, tpr, label = 'Log. Reg.')\n",
    "\n",
    "# Diagonal 45 degree line\n",
    "plt.plot([0,1], [0,1], 'k--')\n",
    "\n",
    "# ROC curve of LDA\n",
    "plt.plot(fpr2, tpr2, label = 'KNN', color = 'red', linestyle = '-.')\n",
    "plt.legend(loc = 'upper left')\n",
    "\n",
    "# Axes limits and labels\n",
    "plt.ylabel('True Positive Ratio')\n",
    "plt.xlabel('False Positive Ratio')\n",
    "plt.show()"
   ]
  },
  {
   "cell_type": "markdown",
   "metadata": {},
   "source": [
    "Finally, given that we have chosen Logistic Regression as our model, we can view the coefficients to interpret how the model makes its predictions. "
   ]
  },
  {
   "cell_type": "code",
   "execution_count": 370,
   "metadata": {
    "collapsed": false
   },
   "outputs": [
    {
     "data": {
      "text/html": [
       "<div>\n",
       "<table border=\"1\" class=\"dataframe\">\n",
       "  <thead>\n",
       "    <tr style=\"text-align: right;\">\n",
       "      <th></th>\n",
       "      <th>Coefficients</th>\n",
       "      <th>Odds</th>\n",
       "      <th>Predictor</th>\n",
       "      <th>Probability</th>\n",
       "    </tr>\n",
       "  </thead>\n",
       "  <tbody>\n",
       "    <tr>\n",
       "      <th>14</th>\n",
       "      <td>4.491613</td>\n",
       "      <td>89.265336</td>\n",
       "      <td>work_interfere_Often</td>\n",
       "      <td>0.988922</td>\n",
       "    </tr>\n",
       "    <tr>\n",
       "      <th>16</th>\n",
       "      <td>3.967984</td>\n",
       "      <td>52.877828</td>\n",
       "      <td>work_interfere_Sometimes</td>\n",
       "      <td>0.981439</td>\n",
       "    </tr>\n",
       "    <tr>\n",
       "      <th>15</th>\n",
       "      <td>3.583889</td>\n",
       "      <td>36.013320</td>\n",
       "      <td>work_interfere_Rarely</td>\n",
       "      <td>0.972983</td>\n",
       "    </tr>\n",
       "    <tr>\n",
       "      <th>2</th>\n",
       "      <td>1.635083</td>\n",
       "      <td>5.129886</td>\n",
       "      <td>family_history</td>\n",
       "      <td>0.836865</td>\n",
       "    </tr>\n",
       "    <tr>\n",
       "      <th>12</th>\n",
       "      <td>1.137047</td>\n",
       "      <td>3.117547</td>\n",
       "      <td>Country_United Kingdom</td>\n",
       "      <td>0.757137</td>\n",
       "    </tr>\n",
       "    <tr>\n",
       "      <th>41</th>\n",
       "      <td>1.072678</td>\n",
       "      <td>2.923197</td>\n",
       "      <td>coworkers_Yes</td>\n",
       "      <td>0.745106</td>\n",
       "    </tr>\n",
       "    <tr>\n",
       "      <th>25</th>\n",
       "      <td>0.791776</td>\n",
       "      <td>2.207314</td>\n",
       "      <td>care_options_Yes</td>\n",
       "      <td>0.688213</td>\n",
       "    </tr>\n",
       "    <tr>\n",
       "      <th>45</th>\n",
       "      <td>0.742974</td>\n",
       "      <td>2.102179</td>\n",
       "      <td>mental_health_interview_Yes</td>\n",
       "      <td>0.677646</td>\n",
       "    </tr>\n",
       "    <tr>\n",
       "      <th>23</th>\n",
       "      <td>0.628915</td>\n",
       "      <td>1.875574</td>\n",
       "      <td>benefits_Yes</td>\n",
       "      <td>0.652243</td>\n",
       "    </tr>\n",
       "    <tr>\n",
       "      <th>4</th>\n",
       "      <td>0.596114</td>\n",
       "      <td>1.815051</td>\n",
       "      <td>obs_consequence</td>\n",
       "      <td>0.644767</td>\n",
       "    </tr>\n",
       "    <tr>\n",
       "      <th>47</th>\n",
       "      <td>0.530962</td>\n",
       "      <td>1.700567</td>\n",
       "      <td>phys_health_interview_Yes</td>\n",
       "      <td>0.629707</td>\n",
       "    </tr>\n",
       "    <tr>\n",
       "      <th>32</th>\n",
       "      <td>0.527992</td>\n",
       "      <td>1.695524</td>\n",
       "      <td>leave_Somewhat difficult</td>\n",
       "      <td>0.629015</td>\n",
       "    </tr>\n",
       "    <tr>\n",
       "      <th>34</th>\n",
       "      <td>0.466787</td>\n",
       "      <td>1.594861</td>\n",
       "      <td>leave_Very difficult</td>\n",
       "      <td>0.614623</td>\n",
       "    </tr>\n",
       "    <tr>\n",
       "      <th>40</th>\n",
       "      <td>0.445434</td>\n",
       "      <td>1.561168</td>\n",
       "      <td>coworkers_Some of them</td>\n",
       "      <td>0.609553</td>\n",
       "    </tr>\n",
       "    <tr>\n",
       "      <th>31</th>\n",
       "      <td>0.440039</td>\n",
       "      <td>1.552768</td>\n",
       "      <td>anonymity_Yes</td>\n",
       "      <td>0.608268</td>\n",
       "    </tr>\n",
       "    <tr>\n",
       "      <th>13</th>\n",
       "      <td>0.434579</td>\n",
       "      <td>1.544313</td>\n",
       "      <td>Country_United States</td>\n",
       "      <td>0.606967</td>\n",
       "    </tr>\n",
       "    <tr>\n",
       "      <th>18</th>\n",
       "      <td>0.355186</td>\n",
       "      <td>1.426446</td>\n",
       "      <td>no_employees_26-100</td>\n",
       "      <td>0.587875</td>\n",
       "    </tr>\n",
       "    <tr>\n",
       "      <th>22</th>\n",
       "      <td>0.335058</td>\n",
       "      <td>1.398021</td>\n",
       "      <td>benefits_No</td>\n",
       "      <td>0.582989</td>\n",
       "    </tr>\n",
       "    <tr>\n",
       "      <th>46</th>\n",
       "      <td>0.312272</td>\n",
       "      <td>1.366526</td>\n",
       "      <td>phys_health_interview_No</td>\n",
       "      <td>0.577440</td>\n",
       "    </tr>\n",
       "    <tr>\n",
       "      <th>37</th>\n",
       "      <td>0.287413</td>\n",
       "      <td>1.332974</td>\n",
       "      <td>mental_health_consequence_Yes</td>\n",
       "      <td>0.571363</td>\n",
       "    </tr>\n",
       "    <tr>\n",
       "      <th>44</th>\n",
       "      <td>0.253768</td>\n",
       "      <td>1.288872</td>\n",
       "      <td>mental_health_interview_No</td>\n",
       "      <td>0.563104</td>\n",
       "    </tr>\n",
       "    <tr>\n",
       "      <th>20</th>\n",
       "      <td>0.204809</td>\n",
       "      <td>1.227291</td>\n",
       "      <td>no_employees_6-25</td>\n",
       "      <td>0.551024</td>\n",
       "    </tr>\n",
       "    <tr>\n",
       "      <th>38</th>\n",
       "      <td>0.110280</td>\n",
       "      <td>1.116590</td>\n",
       "      <td>phys_health_consequence_No</td>\n",
       "      <td>0.527542</td>\n",
       "    </tr>\n",
       "    <tr>\n",
       "      <th>39</th>\n",
       "      <td>0.097277</td>\n",
       "      <td>1.102166</td>\n",
       "      <td>phys_health_consequence_Yes</td>\n",
       "      <td>0.524300</td>\n",
       "    </tr>\n",
       "    <tr>\n",
       "      <th>48</th>\n",
       "      <td>0.091321</td>\n",
       "      <td>1.095621</td>\n",
       "      <td>mental_vs_physical_No</td>\n",
       "      <td>0.522814</td>\n",
       "    </tr>\n",
       "    <tr>\n",
       "      <th>11</th>\n",
       "      <td>0.081950</td>\n",
       "      <td>1.085402</td>\n",
       "      <td>Country_Other</td>\n",
       "      <td>0.520476</td>\n",
       "    </tr>\n",
       "    <tr>\n",
       "      <th>35</th>\n",
       "      <td>0.069713</td>\n",
       "      <td>1.072200</td>\n",
       "      <td>leave_Very easy</td>\n",
       "      <td>0.517421</td>\n",
       "    </tr>\n",
       "    <tr>\n",
       "      <th>19</th>\n",
       "      <td>0.066177</td>\n",
       "      <td>1.068416</td>\n",
       "      <td>no_employees_500-1000</td>\n",
       "      <td>0.516538</td>\n",
       "    </tr>\n",
       "    <tr>\n",
       "      <th>49</th>\n",
       "      <td>0.059896</td>\n",
       "      <td>1.061726</td>\n",
       "      <td>mental_vs_physical_Yes</td>\n",
       "      <td>0.514969</td>\n",
       "    </tr>\n",
       "    <tr>\n",
       "      <th>0</th>\n",
       "      <td>0.032705</td>\n",
       "      <td>1.033246</td>\n",
       "      <td>Age</td>\n",
       "      <td>0.508176</td>\n",
       "    </tr>\n",
       "    <tr>\n",
       "      <th>17</th>\n",
       "      <td>0.026172</td>\n",
       "      <td>1.026517</td>\n",
       "      <td>no_employees_100-500</td>\n",
       "      <td>0.506543</td>\n",
       "    </tr>\n",
       "    <tr>\n",
       "      <th>6</th>\n",
       "      <td>-0.009124</td>\n",
       "      <td>0.990917</td>\n",
       "      <td>Hour</td>\n",
       "      <td>0.497719</td>\n",
       "    </tr>\n",
       "    <tr>\n",
       "      <th>5</th>\n",
       "      <td>-0.031730</td>\n",
       "      <td>0.968769</td>\n",
       "      <td>comments</td>\n",
       "      <td>0.492068</td>\n",
       "    </tr>\n",
       "    <tr>\n",
       "      <th>30</th>\n",
       "      <td>-0.049561</td>\n",
       "      <td>0.951647</td>\n",
       "      <td>anonymity_No</td>\n",
       "      <td>0.487612</td>\n",
       "    </tr>\n",
       "    <tr>\n",
       "      <th>36</th>\n",
       "      <td>-0.050528</td>\n",
       "      <td>0.950728</td>\n",
       "      <td>mental_health_consequence_No</td>\n",
       "      <td>0.487371</td>\n",
       "    </tr>\n",
       "    <tr>\n",
       "      <th>3</th>\n",
       "      <td>-0.083200</td>\n",
       "      <td>0.920167</td>\n",
       "      <td>tech_company</td>\n",
       "      <td>0.479212</td>\n",
       "    </tr>\n",
       "    <tr>\n",
       "      <th>1</th>\n",
       "      <td>-0.212520</td>\n",
       "      <td>0.808544</td>\n",
       "      <td>self_employed</td>\n",
       "      <td>0.447069</td>\n",
       "    </tr>\n",
       "    <tr>\n",
       "      <th>26</th>\n",
       "      <td>-0.251410</td>\n",
       "      <td>0.777704</td>\n",
       "      <td>wellness_program_No</td>\n",
       "      <td>0.437477</td>\n",
       "    </tr>\n",
       "    <tr>\n",
       "      <th>24</th>\n",
       "      <td>-0.298786</td>\n",
       "      <td>0.741718</td>\n",
       "      <td>care_options_Not sure</td>\n",
       "      <td>0.425854</td>\n",
       "    </tr>\n",
       "    <tr>\n",
       "      <th>33</th>\n",
       "      <td>-0.330107</td>\n",
       "      <td>0.718847</td>\n",
       "      <td>leave_Somewhat easy</td>\n",
       "      <td>0.418215</td>\n",
       "    </tr>\n",
       "    <tr>\n",
       "      <th>27</th>\n",
       "      <td>-0.332900</td>\n",
       "      <td>0.716842</td>\n",
       "      <td>wellness_program_Yes</td>\n",
       "      <td>0.417535</td>\n",
       "    </tr>\n",
       "    <tr>\n",
       "      <th>21</th>\n",
       "      <td>-0.371263</td>\n",
       "      <td>0.689862</td>\n",
       "      <td>no_employees_More than 1000</td>\n",
       "      <td>0.408236</td>\n",
       "    </tr>\n",
       "    <tr>\n",
       "      <th>43</th>\n",
       "      <td>-0.400237</td>\n",
       "      <td>0.670161</td>\n",
       "      <td>supervisor_Yes</td>\n",
       "      <td>0.401256</td>\n",
       "    </tr>\n",
       "    <tr>\n",
       "      <th>42</th>\n",
       "      <td>-0.414165</td>\n",
       "      <td>0.660892</td>\n",
       "      <td>supervisor_Some of them</td>\n",
       "      <td>0.397914</td>\n",
       "    </tr>\n",
       "    <tr>\n",
       "      <th>10</th>\n",
       "      <td>-0.558077</td>\n",
       "      <td>0.572308</td>\n",
       "      <td>Gender_Trans</td>\n",
       "      <td>0.363992</td>\n",
       "    </tr>\n",
       "    <tr>\n",
       "      <th>7</th>\n",
       "      <td>-0.586813</td>\n",
       "      <td>0.556097</td>\n",
       "      <td>MoreLikely</td>\n",
       "      <td>0.357367</td>\n",
       "    </tr>\n",
       "    <tr>\n",
       "      <th>29</th>\n",
       "      <td>-0.627852</td>\n",
       "      <td>0.533737</td>\n",
       "      <td>seek_help_Yes</td>\n",
       "      <td>0.347998</td>\n",
       "    </tr>\n",
       "    <tr>\n",
       "      <th>9</th>\n",
       "      <td>-0.739847</td>\n",
       "      <td>0.477187</td>\n",
       "      <td>Gender_Male</td>\n",
       "      <td>0.323038</td>\n",
       "    </tr>\n",
       "    <tr>\n",
       "      <th>28</th>\n",
       "      <td>-0.752105</td>\n",
       "      <td>0.471373</td>\n",
       "      <td>seek_help_No</td>\n",
       "      <td>0.320363</td>\n",
       "    </tr>\n",
       "    <tr>\n",
       "      <th>8</th>\n",
       "      <td>-0.977751</td>\n",
       "      <td>0.376156</td>\n",
       "      <td>ProblematicWork</td>\n",
       "      <td>0.273338</td>\n",
       "    </tr>\n",
       "  </tbody>\n",
       "</table>\n",
       "</div>"
      ],
      "text/plain": [
       "    Coefficients       Odds                      Predictor  Probability\n",
       "14      4.491613  89.265336           work_interfere_Often     0.988922\n",
       "16      3.967984  52.877828       work_interfere_Sometimes     0.981439\n",
       "15      3.583889  36.013320          work_interfere_Rarely     0.972983\n",
       "2       1.635083   5.129886                 family_history     0.836865\n",
       "12      1.137047   3.117547         Country_United Kingdom     0.757137\n",
       "41      1.072678   2.923197                  coworkers_Yes     0.745106\n",
       "25      0.791776   2.207314               care_options_Yes     0.688213\n",
       "45      0.742974   2.102179    mental_health_interview_Yes     0.677646\n",
       "23      0.628915   1.875574                   benefits_Yes     0.652243\n",
       "4       0.596114   1.815051                obs_consequence     0.644767\n",
       "47      0.530962   1.700567      phys_health_interview_Yes     0.629707\n",
       "32      0.527992   1.695524       leave_Somewhat difficult     0.629015\n",
       "34      0.466787   1.594861           leave_Very difficult     0.614623\n",
       "40      0.445434   1.561168         coworkers_Some of them     0.609553\n",
       "31      0.440039   1.552768                  anonymity_Yes     0.608268\n",
       "13      0.434579   1.544313          Country_United States     0.606967\n",
       "18      0.355186   1.426446            no_employees_26-100     0.587875\n",
       "22      0.335058   1.398021                    benefits_No     0.582989\n",
       "46      0.312272   1.366526       phys_health_interview_No     0.577440\n",
       "37      0.287413   1.332974  mental_health_consequence_Yes     0.571363\n",
       "44      0.253768   1.288872     mental_health_interview_No     0.563104\n",
       "20      0.204809   1.227291              no_employees_6-25     0.551024\n",
       "38      0.110280   1.116590     phys_health_consequence_No     0.527542\n",
       "39      0.097277   1.102166    phys_health_consequence_Yes     0.524300\n",
       "48      0.091321   1.095621          mental_vs_physical_No     0.522814\n",
       "11      0.081950   1.085402                  Country_Other     0.520476\n",
       "35      0.069713   1.072200                leave_Very easy     0.517421\n",
       "19      0.066177   1.068416          no_employees_500-1000     0.516538\n",
       "49      0.059896   1.061726         mental_vs_physical_Yes     0.514969\n",
       "0       0.032705   1.033246                            Age     0.508176\n",
       "17      0.026172   1.026517           no_employees_100-500     0.506543\n",
       "6      -0.009124   0.990917                           Hour     0.497719\n",
       "5      -0.031730   0.968769                       comments     0.492068\n",
       "30     -0.049561   0.951647                   anonymity_No     0.487612\n",
       "36     -0.050528   0.950728   mental_health_consequence_No     0.487371\n",
       "3      -0.083200   0.920167                   tech_company     0.479212\n",
       "1      -0.212520   0.808544                  self_employed     0.447069\n",
       "26     -0.251410   0.777704            wellness_program_No     0.437477\n",
       "24     -0.298786   0.741718          care_options_Not sure     0.425854\n",
       "33     -0.330107   0.718847            leave_Somewhat easy     0.418215\n",
       "27     -0.332900   0.716842           wellness_program_Yes     0.417535\n",
       "21     -0.371263   0.689862    no_employees_More than 1000     0.408236\n",
       "43     -0.400237   0.670161                 supervisor_Yes     0.401256\n",
       "42     -0.414165   0.660892        supervisor_Some of them     0.397914\n",
       "10     -0.558077   0.572308                   Gender_Trans     0.363992\n",
       "7      -0.586813   0.556097                     MoreLikely     0.357367\n",
       "29     -0.627852   0.533737                  seek_help_Yes     0.347998\n",
       "9      -0.739847   0.477187                    Gender_Male     0.323038\n",
       "28     -0.752105   0.471373                   seek_help_No     0.320363\n",
       "8      -0.977751   0.376156                ProblematicWork     0.273338"
      ]
     },
     "execution_count": 370,
     "metadata": {},
     "output_type": "execute_result"
    }
   ],
   "source": [
    "lg = LogisticRegression(C=111.11200000000001, class_weight=None, dual=False,\n",
    "          fit_intercept=True, intercept_scaling=1, max_iter=100,\n",
    "          multi_class='ovr', n_jobs=1, penalty='l2', random_state=123,\n",
    "          solver='liblinear', tol=0.0001, verbose=0, warm_start=False)\n",
    "lg = lg.fit(X_train, y_train)\n",
    "coefs = lg.coef_.reshape((50,))\n",
    "coef_df = pd.DataFrame({'Predictor': X_train.columns.values, 'Coefficients': coefs, 'Odds': np.exp(coefs), 'Probability':(np.exp(coefs)/(1+np.exp(coefs)))})\n",
    "coef_df.sort_values(by = ['Odds'], ascending=False)"
   ]
  },
  {
   "cell_type": "markdown",
   "metadata": {
    "collapsed": true
   },
   "source": [
    "Work_Interfere had extremely high odds, yielding >97 percent probability of seeking treatment. \n",
    "\n",
    "Family_History also had very high odds, with ~84 percent probability of seeking treatment.\n",
    "\n",
    "Coworkers, Care_Options, Benefits, Mental_Health_Interview and Obs_Consequence also had high odds (more than 80 percent likely) and probabilities > 60 percent."
   ]
  },
  {
   "cell_type": "markdown",
   "metadata": {},
   "source": [
    "# Conclusions"
   ]
  },
  {
   "cell_type": "markdown",
   "metadata": {},
   "source": [
    "The data and models reveal great in\n",
    "\n",
    "Employees are more likely to seek treatment when:\n",
    "    \n",
    "    Mental health issues interfere with work. \n",
    "    \n",
    "    Mental health issues are present with family history. \n",
    "\n",
    "Employers can help their employees get the necessary treatment by:\n",
    "    \n",
    "    Providing mental health care benefits. \n",
    "    \n",
    "    Making employees aware of these benefits. \n",
    "    \n",
    "    Creating an environment where coworkers can discuss mental health. \n",
    "    \n",
    "    Creating an environment without a perceived consequence of coming forward with a mental health issue. \n"
   ]
  },
  {
   "cell_type": "markdown",
   "metadata": {},
   "source": [
    "### Links to slides and video: "
   ]
  },
  {
   "cell_type": "markdown",
   "metadata": {},
   "source": [
    "Slides: https://docs.google.com/presentation/d/1AIjaEBLNEuUs9TPWKHgcgZaBj5AZBI7UBWKxZZ7PjUI/edit?usp=sharing\n",
    "\n",
    "Video: https://www.youtube.com/watch?v=H5VwxesHpxc"
   ]
  }
 ],
 "metadata": {
  "celltoolbar": "Raw Cell Format",
  "kernelspec": {
   "display_name": "Python 2",
   "language": "python",
   "name": "python2"
  },
  "language_info": {
   "codemirror_mode": {
    "name": "ipython",
    "version": 2
   },
   "file_extension": ".py",
   "mimetype": "text/x-python",
   "name": "python",
   "nbconvert_exporter": "python",
   "pygments_lexer": "ipython2",
   "version": "2.7.13"
  }
 },
 "nbformat": 4,
 "nbformat_minor": 2
}
